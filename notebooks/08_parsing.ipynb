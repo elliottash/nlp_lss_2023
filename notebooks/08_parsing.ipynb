{
 "cells": [
  {
   "cell_type": "markdown",
   "metadata": {},
   "source": [
    "# Week 8: Parsing"
   ]
  },
  {
   "cell_type": "markdown",
   "metadata": {},
   "source": [
    "## Setup"
   ]
  },
  {
   "cell_type": "code",
   "execution_count": null,
   "metadata": {},
   "outputs": [],
   "source": [
    "# !pip install benepar\n",
    "# !pip install svgling"
   ]
  },
  {
   "cell_type": "code",
   "execution_count": 2,
   "metadata": {
    "ExecuteTime": {
     "end_time": "2022-04-28T11:35:14.398728Z",
     "start_time": "2022-04-28T11:35:13.175805Z"
    }
   },
   "outputs": [],
   "source": [
    "#setup\n",
    "%matplotlib notebook\n",
    "import pandas as pd\n",
    "import spacy\n",
    "from spacy import displacy\n",
    "import benepar\n",
    "import nltk\n",
    "\n",
    "from collections import Counter\n",
    "\n",
    "\n",
    "df = pd.read_csv('death-penalty-cases.csv')"
   ]
  },
  {
   "cell_type": "code",
   "execution_count": 2,
   "metadata": {
    "ExecuteTime": {
     "end_time": "2022-04-28T11:23:46.717404Z",
     "start_time": "2022-04-28T11:23:46.706012Z"
    }
   },
   "outputs": [
    {
     "data": {
      "text/html": [
       "<div>\n",
       "<style scoped>\n",
       "    .dataframe tbody tr th:only-of-type {\n",
       "        vertical-align: middle;\n",
       "    }\n",
       "\n",
       "    .dataframe tbody tr th {\n",
       "        vertical-align: top;\n",
       "    }\n",
       "\n",
       "    .dataframe thead th {\n",
       "        text-align: right;\n",
       "    }\n",
       "</style>\n",
       "<table border=\"1\" class=\"dataframe\">\n",
       "  <thead>\n",
       "    <tr style=\"text-align: right;\">\n",
       "      <th></th>\n",
       "      <th>court_id</th>\n",
       "      <th>author_id</th>\n",
       "      <th>state</th>\n",
       "      <th>year</th>\n",
       "      <th>dateFiled</th>\n",
       "      <th>citeCount</th>\n",
       "      <th>snippet</th>\n",
       "    </tr>\n",
       "  </thead>\n",
       "  <tbody>\n",
       "    <tr>\n",
       "      <th>0</th>\n",
       "      <td>nj</td>\n",
       "      <td>NaN</td>\n",
       "      <td>NJ</td>\n",
       "      <td>1965</td>\n",
       "      <td>1965-09-14T00:00:00Z</td>\n",
       "      <td>8</td>\n",
       "      <td>N.J.   ( )\\n  A. d  \\nIN RE WAIVER OF DEATH PE...</td>\n",
       "    </tr>\n",
       "    <tr>\n",
       "      <th>1</th>\n",
       "      <td>fla</td>\n",
       "      <td>4019.0</td>\n",
       "      <td>FL</td>\n",
       "      <td>1973</td>\n",
       "      <td>1973-07-26T00:00:00Z</td>\n",
       "      <td>552</td>\n",
       "      <td>whether the death penalty is, per se, unconsti...</td>\n",
       "    </tr>\n",
       "    <tr>\n",
       "      <th>2</th>\n",
       "      <td>texcrimapp</td>\n",
       "      <td>5765.0</td>\n",
       "      <td>TX</td>\n",
       "      <td>1975</td>\n",
       "      <td>1975-04-16T00:00:00Z</td>\n",
       "      <td>143</td>\n",
       "      <td># ;s contention that the assessment of the dea...</td>\n",
       "    </tr>\n",
       "    <tr>\n",
       "      <th>3</th>\n",
       "      <td>nm</td>\n",
       "      <td>NaN</td>\n",
       "      <td>NM</td>\n",
       "      <td>2009</td>\n",
       "      <td>2009-11-30T00:00:00Z</td>\n",
       "      <td>0</td>\n",
       "      <td>. d   ( )\\n -NMSC- \\nIN THE MATTER OF DEATH PE...</td>\n",
       "    </tr>\n",
       "    <tr>\n",
       "      <th>4</th>\n",
       "      <td>texcrimapp</td>\n",
       "      <td>5758.0</td>\n",
       "      <td>TX</td>\n",
       "      <td>1944</td>\n",
       "      <td>1944-12-20T00:00:00Z</td>\n",
       "      <td>56</td>\n",
       "      <td>assume the district attorney orally waived the...</td>\n",
       "    </tr>\n",
       "    <tr>\n",
       "      <th>...</th>\n",
       "      <td>...</td>\n",
       "      <td>...</td>\n",
       "      <td>...</td>\n",
       "      <td>...</td>\n",
       "      <td>...</td>\n",
       "      <td>...</td>\n",
       "      <td>...</td>\n",
       "    </tr>\n",
       "    <tr>\n",
       "      <th>32562</th>\n",
       "      <td>ohioctapp</td>\n",
       "      <td>8055.0</td>\n",
       "      <td>OH</td>\n",
       "      <td>2017</td>\n",
       "      <td>2017-07-20T00:00:00Z</td>\n",
       "      <td>0</td>\n",
       "      <td>of two counts of aggravated murder with deat...</td>\n",
       "    </tr>\n",
       "    <tr>\n",
       "      <th>32563</th>\n",
       "      <td>cal</td>\n",
       "      <td>NaN</td>\n",
       "      <td>CA</td>\n",
       "      <td>2017</td>\n",
       "      <td>2017-07-20T00:00:00Z</td>\n",
       "      <td>0</td>\n",
       "      <td>his general views about the death penalty as ...</td>\n",
       "    </tr>\n",
       "    <tr>\n",
       "      <th>32564</th>\n",
       "      <td>neb</td>\n",
       "      <td>NaN</td>\n",
       "      <td>NE</td>\n",
       "      <td>2017</td>\n",
       "      <td>2017-07-21T00:00:00Z</td>\n",
       "      <td>0</td>\n",
       "      <td>been subject to the death\\npenalty, because Ne...</td>\n",
       "    </tr>\n",
       "    <tr>\n",
       "      <th>32565</th>\n",
       "      <td>ohio</td>\n",
       "      <td>5374.0</td>\n",
       "      <td>OH</td>\n",
       "      <td>2017</td>\n",
       "      <td>2017-07-25T00:00:00Z</td>\n",
       "      <td>0</td>\n",
       "      <td>that Indiana law permits imposition of the de...</td>\n",
       "    </tr>\n",
       "    <tr>\n",
       "      <th>32566</th>\n",
       "      <td>tenncrimapp</td>\n",
       "      <td>8291.0</td>\n",
       "      <td>TN</td>\n",
       "      <td>2017</td>\n",
       "      <td>2017-07-20T00:00:00Z</td>\n",
       "      <td>0</td>\n",
       "      <td>original guilty\\nplea for which he received th...</td>\n",
       "    </tr>\n",
       "  </tbody>\n",
       "</table>\n",
       "<p>32567 rows × 7 columns</p>\n",
       "</div>"
      ],
      "text/plain": [
       "          court_id  author_id state  year             dateFiled  citeCount  \\\n",
       "0               nj        NaN    NJ  1965  1965-09-14T00:00:00Z          8   \n",
       "1              fla     4019.0    FL  1973  1973-07-26T00:00:00Z        552   \n",
       "2       texcrimapp     5765.0    TX  1975  1975-04-16T00:00:00Z        143   \n",
       "3               nm        NaN    NM  2009  2009-11-30T00:00:00Z          0   \n",
       "4       texcrimapp     5758.0    TX  1944  1944-12-20T00:00:00Z         56   \n",
       "...            ...        ...   ...   ...                   ...        ...   \n",
       "32562    ohioctapp     8055.0    OH  2017  2017-07-20T00:00:00Z          0   \n",
       "32563          cal        NaN    CA  2017  2017-07-20T00:00:00Z          0   \n",
       "32564          neb        NaN    NE  2017  2017-07-21T00:00:00Z          0   \n",
       "32565         ohio     5374.0    OH  2017  2017-07-25T00:00:00Z          0   \n",
       "32566  tenncrimapp     8291.0    TN  2017  2017-07-20T00:00:00Z          0   \n",
       "\n",
       "                                                 snippet  \n",
       "0      N.J.   ( )\\n  A. d  \\nIN RE WAIVER OF DEATH PE...  \n",
       "1      whether the death penalty is, per se, unconsti...  \n",
       "2      # ;s contention that the assessment of the dea...  \n",
       "3      . d   ( )\\n -NMSC- \\nIN THE MATTER OF DEATH PE...  \n",
       "4      assume the district attorney orally waived the...  \n",
       "...                                                  ...  \n",
       "32562    of two counts of aggravated murder with deat...  \n",
       "32563   his general views about the death penalty as ...  \n",
       "32564  been subject to the death\\npenalty, because Ne...  \n",
       "32565   that Indiana law permits imposition of the de...  \n",
       "32566  original guilty\\nplea for which he received th...  \n",
       "\n",
       "[32567 rows x 7 columns]"
      ]
     },
     "execution_count": 2,
     "metadata": {},
     "output_type": "execute_result"
    }
   ],
   "source": [
    "df"
   ]
  },
  {
   "cell_type": "markdown",
   "metadata": {},
   "source": [
    "## Dependency Parsing with SpaCy"
   ]
  },
  {
   "cell_type": "markdown",
   "metadata": {},
   "source": [
    "Let's first look at one example:"
   ]
  },
  {
   "cell_type": "code",
   "execution_count": 4,
   "metadata": {
    "ExecuteTime": {
     "end_time": "2022-04-28T11:26:09.842198Z",
     "start_time": "2022-04-28T11:26:09.427996Z"
    }
   },
   "outputs": [],
   "source": [
    "text = 'Science cannot solve the ultimate mystery of nature.'\n",
    "nlp = spacy.load('en_core_web_sm')\n",
    "doc = nlp(text)"
   ]
  },
  {
   "cell_type": "code",
   "execution_count": 5,
   "metadata": {
    "ExecuteTime": {
     "end_time": "2022-04-28T11:26:10.878513Z",
     "start_time": "2022-04-28T11:26:10.852343Z"
    }
   },
   "outputs": [
    {
     "data": {
      "text/html": [
       "<span class=\"tex2jax_ignore\"><svg xmlns=\"http://www.w3.org/2000/svg\" xmlns:xlink=\"http://www.w3.org/1999/xlink\" xml:lang=\"en\" id=\"b3b0b9af75c848b594caaa1ca7c511b8-0\" class=\"displacy\" width=\"1625\" height=\"399.5\" direction=\"ltr\" style=\"max-width: none; height: 399.5px; color: #000000; background: #ffffff; font-family: Arial; direction: ltr\">\n",
       "<text class=\"displacy-token\" fill=\"currentColor\" text-anchor=\"middle\" y=\"309.5\">\n",
       "    <tspan class=\"displacy-word\" fill=\"currentColor\" x=\"50\">Science</tspan>\n",
       "    <tspan class=\"displacy-tag\" dy=\"2em\" fill=\"currentColor\" x=\"50\">NOUN</tspan>\n",
       "</text>\n",
       "\n",
       "<text class=\"displacy-token\" fill=\"currentColor\" text-anchor=\"middle\" y=\"309.5\">\n",
       "    <tspan class=\"displacy-word\" fill=\"currentColor\" x=\"225\">can</tspan>\n",
       "    <tspan class=\"displacy-tag\" dy=\"2em\" fill=\"currentColor\" x=\"225\">VERB</tspan>\n",
       "</text>\n",
       "\n",
       "<text class=\"displacy-token\" fill=\"currentColor\" text-anchor=\"middle\" y=\"309.5\">\n",
       "    <tspan class=\"displacy-word\" fill=\"currentColor\" x=\"400\">not</tspan>\n",
       "    <tspan class=\"displacy-tag\" dy=\"2em\" fill=\"currentColor\" x=\"400\">PART</tspan>\n",
       "</text>\n",
       "\n",
       "<text class=\"displacy-token\" fill=\"currentColor\" text-anchor=\"middle\" y=\"309.5\">\n",
       "    <tspan class=\"displacy-word\" fill=\"currentColor\" x=\"575\">solve</tspan>\n",
       "    <tspan class=\"displacy-tag\" dy=\"2em\" fill=\"currentColor\" x=\"575\">VERB</tspan>\n",
       "</text>\n",
       "\n",
       "<text class=\"displacy-token\" fill=\"currentColor\" text-anchor=\"middle\" y=\"309.5\">\n",
       "    <tspan class=\"displacy-word\" fill=\"currentColor\" x=\"750\">the</tspan>\n",
       "    <tspan class=\"displacy-tag\" dy=\"2em\" fill=\"currentColor\" x=\"750\">DET</tspan>\n",
       "</text>\n",
       "\n",
       "<text class=\"displacy-token\" fill=\"currentColor\" text-anchor=\"middle\" y=\"309.5\">\n",
       "    <tspan class=\"displacy-word\" fill=\"currentColor\" x=\"925\">ultimate</tspan>\n",
       "    <tspan class=\"displacy-tag\" dy=\"2em\" fill=\"currentColor\" x=\"925\">ADJ</tspan>\n",
       "</text>\n",
       "\n",
       "<text class=\"displacy-token\" fill=\"currentColor\" text-anchor=\"middle\" y=\"309.5\">\n",
       "    <tspan class=\"displacy-word\" fill=\"currentColor\" x=\"1100\">mystery</tspan>\n",
       "    <tspan class=\"displacy-tag\" dy=\"2em\" fill=\"currentColor\" x=\"1100\">NOUN</tspan>\n",
       "</text>\n",
       "\n",
       "<text class=\"displacy-token\" fill=\"currentColor\" text-anchor=\"middle\" y=\"309.5\">\n",
       "    <tspan class=\"displacy-word\" fill=\"currentColor\" x=\"1275\">of</tspan>\n",
       "    <tspan class=\"displacy-tag\" dy=\"2em\" fill=\"currentColor\" x=\"1275\">ADP</tspan>\n",
       "</text>\n",
       "\n",
       "<text class=\"displacy-token\" fill=\"currentColor\" text-anchor=\"middle\" y=\"309.5\">\n",
       "    <tspan class=\"displacy-word\" fill=\"currentColor\" x=\"1450\">nature.</tspan>\n",
       "    <tspan class=\"displacy-tag\" dy=\"2em\" fill=\"currentColor\" x=\"1450\">NOUN</tspan>\n",
       "</text>\n",
       "\n",
       "<g class=\"displacy-arrow\">\n",
       "    <path class=\"displacy-arc\" id=\"arrow-b3b0b9af75c848b594caaa1ca7c511b8-0-0\" stroke-width=\"2px\" d=\"M70,264.5 C70,2.0 575.0,2.0 575.0,264.5\" fill=\"none\" stroke=\"currentColor\"/>\n",
       "    <text dy=\"1.25em\" style=\"font-size: 0.8em; letter-spacing: 1px\">\n",
       "        <textPath xlink:href=\"#arrow-b3b0b9af75c848b594caaa1ca7c511b8-0-0\" class=\"displacy-label\" startOffset=\"50%\" side=\"left\" fill=\"currentColor\" text-anchor=\"middle\">nsubj</textPath>\n",
       "    </text>\n",
       "    <path class=\"displacy-arrowhead\" d=\"M70,266.5 L62,254.5 78,254.5\" fill=\"currentColor\"/>\n",
       "</g>\n",
       "\n",
       "<g class=\"displacy-arrow\">\n",
       "    <path class=\"displacy-arc\" id=\"arrow-b3b0b9af75c848b594caaa1ca7c511b8-0-1\" stroke-width=\"2px\" d=\"M245,264.5 C245,89.5 570.0,89.5 570.0,264.5\" fill=\"none\" stroke=\"currentColor\"/>\n",
       "    <text dy=\"1.25em\" style=\"font-size: 0.8em; letter-spacing: 1px\">\n",
       "        <textPath xlink:href=\"#arrow-b3b0b9af75c848b594caaa1ca7c511b8-0-1\" class=\"displacy-label\" startOffset=\"50%\" side=\"left\" fill=\"currentColor\" text-anchor=\"middle\">aux</textPath>\n",
       "    </text>\n",
       "    <path class=\"displacy-arrowhead\" d=\"M245,266.5 L237,254.5 253,254.5\" fill=\"currentColor\"/>\n",
       "</g>\n",
       "\n",
       "<g class=\"displacy-arrow\">\n",
       "    <path class=\"displacy-arc\" id=\"arrow-b3b0b9af75c848b594caaa1ca7c511b8-0-2\" stroke-width=\"2px\" d=\"M420,264.5 C420,177.0 565.0,177.0 565.0,264.5\" fill=\"none\" stroke=\"currentColor\"/>\n",
       "    <text dy=\"1.25em\" style=\"font-size: 0.8em; letter-spacing: 1px\">\n",
       "        <textPath xlink:href=\"#arrow-b3b0b9af75c848b594caaa1ca7c511b8-0-2\" class=\"displacy-label\" startOffset=\"50%\" side=\"left\" fill=\"currentColor\" text-anchor=\"middle\">neg</textPath>\n",
       "    </text>\n",
       "    <path class=\"displacy-arrowhead\" d=\"M420,266.5 L412,254.5 428,254.5\" fill=\"currentColor\"/>\n",
       "</g>\n",
       "\n",
       "<g class=\"displacy-arrow\">\n",
       "    <path class=\"displacy-arc\" id=\"arrow-b3b0b9af75c848b594caaa1ca7c511b8-0-3\" stroke-width=\"2px\" d=\"M770,264.5 C770,89.5 1095.0,89.5 1095.0,264.5\" fill=\"none\" stroke=\"currentColor\"/>\n",
       "    <text dy=\"1.25em\" style=\"font-size: 0.8em; letter-spacing: 1px\">\n",
       "        <textPath xlink:href=\"#arrow-b3b0b9af75c848b594caaa1ca7c511b8-0-3\" class=\"displacy-label\" startOffset=\"50%\" side=\"left\" fill=\"currentColor\" text-anchor=\"middle\">det</textPath>\n",
       "    </text>\n",
       "    <path class=\"displacy-arrowhead\" d=\"M770,266.5 L762,254.5 778,254.5\" fill=\"currentColor\"/>\n",
       "</g>\n",
       "\n",
       "<g class=\"displacy-arrow\">\n",
       "    <path class=\"displacy-arc\" id=\"arrow-b3b0b9af75c848b594caaa1ca7c511b8-0-4\" stroke-width=\"2px\" d=\"M945,264.5 C945,177.0 1090.0,177.0 1090.0,264.5\" fill=\"none\" stroke=\"currentColor\"/>\n",
       "    <text dy=\"1.25em\" style=\"font-size: 0.8em; letter-spacing: 1px\">\n",
       "        <textPath xlink:href=\"#arrow-b3b0b9af75c848b594caaa1ca7c511b8-0-4\" class=\"displacy-label\" startOffset=\"50%\" side=\"left\" fill=\"currentColor\" text-anchor=\"middle\">amod</textPath>\n",
       "    </text>\n",
       "    <path class=\"displacy-arrowhead\" d=\"M945,266.5 L937,254.5 953,254.5\" fill=\"currentColor\"/>\n",
       "</g>\n",
       "\n",
       "<g class=\"displacy-arrow\">\n",
       "    <path class=\"displacy-arc\" id=\"arrow-b3b0b9af75c848b594caaa1ca7c511b8-0-5\" stroke-width=\"2px\" d=\"M595,264.5 C595,2.0 1100.0,2.0 1100.0,264.5\" fill=\"none\" stroke=\"currentColor\"/>\n",
       "    <text dy=\"1.25em\" style=\"font-size: 0.8em; letter-spacing: 1px\">\n",
       "        <textPath xlink:href=\"#arrow-b3b0b9af75c848b594caaa1ca7c511b8-0-5\" class=\"displacy-label\" startOffset=\"50%\" side=\"left\" fill=\"currentColor\" text-anchor=\"middle\">dobj</textPath>\n",
       "    </text>\n",
       "    <path class=\"displacy-arrowhead\" d=\"M1100.0,266.5 L1108.0,254.5 1092.0,254.5\" fill=\"currentColor\"/>\n",
       "</g>\n",
       "\n",
       "<g class=\"displacy-arrow\">\n",
       "    <path class=\"displacy-arc\" id=\"arrow-b3b0b9af75c848b594caaa1ca7c511b8-0-6\" stroke-width=\"2px\" d=\"M1120,264.5 C1120,177.0 1265.0,177.0 1265.0,264.5\" fill=\"none\" stroke=\"currentColor\"/>\n",
       "    <text dy=\"1.25em\" style=\"font-size: 0.8em; letter-spacing: 1px\">\n",
       "        <textPath xlink:href=\"#arrow-b3b0b9af75c848b594caaa1ca7c511b8-0-6\" class=\"displacy-label\" startOffset=\"50%\" side=\"left\" fill=\"currentColor\" text-anchor=\"middle\">prep</textPath>\n",
       "    </text>\n",
       "    <path class=\"displacy-arrowhead\" d=\"M1265.0,266.5 L1273.0,254.5 1257.0,254.5\" fill=\"currentColor\"/>\n",
       "</g>\n",
       "\n",
       "<g class=\"displacy-arrow\">\n",
       "    <path class=\"displacy-arc\" id=\"arrow-b3b0b9af75c848b594caaa1ca7c511b8-0-7\" stroke-width=\"2px\" d=\"M1295,264.5 C1295,177.0 1440.0,177.0 1440.0,264.5\" fill=\"none\" stroke=\"currentColor\"/>\n",
       "    <text dy=\"1.25em\" style=\"font-size: 0.8em; letter-spacing: 1px\">\n",
       "        <textPath xlink:href=\"#arrow-b3b0b9af75c848b594caaa1ca7c511b8-0-7\" class=\"displacy-label\" startOffset=\"50%\" side=\"left\" fill=\"currentColor\" text-anchor=\"middle\">pobj</textPath>\n",
       "    </text>\n",
       "    <path class=\"displacy-arrowhead\" d=\"M1440.0,266.5 L1448.0,254.5 1432.0,254.5\" fill=\"currentColor\"/>\n",
       "</g>\n",
       "</svg></span>"
      ],
      "text/plain": [
       "<IPython.core.display.HTML object>"
      ]
     },
     "metadata": {},
     "output_type": "display_data"
    }
   ],
   "source": [
    "displacy.render(doc, style=\"dep\")"
   ]
  },
  {
   "cell_type": "code",
   "execution_count": 6,
   "metadata": {
    "ExecuteTime": {
     "end_time": "2022-04-28T11:26:12.225503Z",
     "start_time": "2022-04-28T11:26:12.204363Z"
    }
   },
   "outputs": [
    {
     "name": "stdout",
     "output_type": "stream",
     "text": [
      "sentence: Science cannot solve the ultimate mystery of nature.\n",
      "root: solve\n",
      "[(Science, 'nsubj'), (can, 'aux'), (not, 'neg'), (mystery, 'dobj'), (., 'punct')]\n",
      "\n"
     ]
    }
   ],
   "source": [
    "for sent in doc.sents:\n",
    "    print(\"sentence:\", sent)\n",
    "    print(\"root:\", sent.root)\n",
    "    print([(w, w.dep_) for w in sent.root.children])\n",
    "    print()"
   ]
  },
  {
   "cell_type": "code",
   "execution_count": 7,
   "metadata": {
    "ExecuteTime": {
     "end_time": "2022-04-28T11:26:12.569391Z",
     "start_time": "2022-04-28T11:26:12.561398Z"
    }
   },
   "outputs": [
    {
     "name": "stdout",
     "output_type": "stream",
     "text": [
      "Science cannot solve the ultimate mystery of nature.\n",
      "solve\n",
      "[Science, can, not, mystery, .]\n",
      "[Science, can, not]\n",
      "[mystery, .]\n",
      "Science\n",
      "nsubj\n",
      "solve\n"
     ]
    }
   ],
   "source": [
    "# current sentence\n",
    "print(sent)\n",
    "print(sent.root)\n",
    "print(list(sent.root.children))\n",
    "# Left children\n",
    "print(list(sent.root.lefts))\n",
    "# Right children\n",
    "print(list(sent.root.rights))\n",
    "# first token\n",
    "print(sent[0])\n",
    "# first token dependency label, cc=conjunction\n",
    "print(sent[0].dep_)\n",
    "print(sent[0].head)"
   ]
  },
  {
   "cell_type": "markdown",
   "metadata": {},
   "source": [
    "# Constituency Parsing with SpaCy"
   ]
  },
  {
   "cell_type": "code",
   "execution_count": null,
   "metadata": {
    "ExecuteTime": {
     "end_time": "2022-04-28T11:35:38.703128Z",
     "start_time": "2022-04-28T11:35:38.327678Z"
    }
   },
   "outputs": [],
   "source": [
    "nlp = spacy.load('en_core_web_sm')\n",
    "nlp.add_pipe('benepar', config={'model': 'benepar_en3'})\n",
    "doc = nlp('Science cannot solve the ultimate mystery of nature.')\n",
    "sent = list(doc.sents)[0]\n",
    "print(sent._.parse_string)\n",
    "print(sent._.labels)\n",
    "print(list(sent._.children)[0])\n",
    "nltk.Tree.fromstring(sent._.parse_string)"
   ]
  },
  {
   "cell_type": "markdown",
   "metadata": {},
   "source": [
    "# Application\n",
    "## Unsupervised Discovery of Gendered Language through Latent-Variable Modeling\n",
    "\n",
    "[Hoyle et al. (2019)](https://www.aclweb.org/anthology/P19-1167/) study the language use of gendered nouns and proceed to train a generative latent-variable model that jointly represents adjective (or verb) choice, with its sentiment given the (natural) gender of a noun. To this extent, they extract noun–adjectives pairs, NSUBJ–verb pairs and DOBJ–verb pairs. \n",
    "\n",
    "In the following, we show how to extract NSUBJ-verb pairs from text."
   ]
  },
  {
   "cell_type": "code",
   "execution_count": 9,
   "metadata": {
    "ExecuteTime": {
     "end_time": "2022-04-28T11:26:20.966653Z",
     "start_time": "2022-04-28T11:26:20.942969Z"
    }
   },
   "outputs": [
    {
     "data": {
      "text/html": [
       "<div>\n",
       "<style scoped>\n",
       "    .dataframe tbody tr th:only-of-type {\n",
       "        vertical-align: middle;\n",
       "    }\n",
       "\n",
       "    .dataframe tbody tr th {\n",
       "        vertical-align: top;\n",
       "    }\n",
       "\n",
       "    .dataframe thead th {\n",
       "        text-align: right;\n",
       "    }\n",
       "</style>\n",
       "<table border=\"1\" class=\"dataframe\">\n",
       "  <thead>\n",
       "    <tr style=\"text-align: right;\">\n",
       "      <th></th>\n",
       "      <th>court_id</th>\n",
       "      <th>author_id</th>\n",
       "      <th>state</th>\n",
       "      <th>year</th>\n",
       "      <th>dateFiled</th>\n",
       "      <th>citeCount</th>\n",
       "      <th>snippet</th>\n",
       "    </tr>\n",
       "  </thead>\n",
       "  <tbody>\n",
       "    <tr>\n",
       "      <th>0</th>\n",
       "      <td>nj</td>\n",
       "      <td>NaN</td>\n",
       "      <td>NJ</td>\n",
       "      <td>1965</td>\n",
       "      <td>1965-09-14T00:00:00Z</td>\n",
       "      <td>8</td>\n",
       "      <td>N.J.   ( )\\n  A. d  \\nIN RE WAIVER OF DEATH PE...</td>\n",
       "    </tr>\n",
       "    <tr>\n",
       "      <th>1</th>\n",
       "      <td>fla</td>\n",
       "      <td>4019.0</td>\n",
       "      <td>FL</td>\n",
       "      <td>1973</td>\n",
       "      <td>1973-07-26T00:00:00Z</td>\n",
       "      <td>552</td>\n",
       "      <td>whether the death penalty is, per se, unconsti...</td>\n",
       "    </tr>\n",
       "    <tr>\n",
       "      <th>2</th>\n",
       "      <td>texcrimapp</td>\n",
       "      <td>5765.0</td>\n",
       "      <td>TX</td>\n",
       "      <td>1975</td>\n",
       "      <td>1975-04-16T00:00:00Z</td>\n",
       "      <td>143</td>\n",
       "      <td># ;s contention that the assessment of the dea...</td>\n",
       "    </tr>\n",
       "    <tr>\n",
       "      <th>3</th>\n",
       "      <td>nm</td>\n",
       "      <td>NaN</td>\n",
       "      <td>NM</td>\n",
       "      <td>2009</td>\n",
       "      <td>2009-11-30T00:00:00Z</td>\n",
       "      <td>0</td>\n",
       "      <td>. d   ( )\\n -NMSC- \\nIN THE MATTER OF DEATH PE...</td>\n",
       "    </tr>\n",
       "    <tr>\n",
       "      <th>4</th>\n",
       "      <td>texcrimapp</td>\n",
       "      <td>5758.0</td>\n",
       "      <td>TX</td>\n",
       "      <td>1944</td>\n",
       "      <td>1944-12-20T00:00:00Z</td>\n",
       "      <td>56</td>\n",
       "      <td>assume the district attorney orally waived the...</td>\n",
       "    </tr>\n",
       "    <tr>\n",
       "      <th>...</th>\n",
       "      <td>...</td>\n",
       "      <td>...</td>\n",
       "      <td>...</td>\n",
       "      <td>...</td>\n",
       "      <td>...</td>\n",
       "      <td>...</td>\n",
       "      <td>...</td>\n",
       "    </tr>\n",
       "    <tr>\n",
       "      <th>32562</th>\n",
       "      <td>ohioctapp</td>\n",
       "      <td>8055.0</td>\n",
       "      <td>OH</td>\n",
       "      <td>2017</td>\n",
       "      <td>2017-07-20T00:00:00Z</td>\n",
       "      <td>0</td>\n",
       "      <td>of two counts of aggravated murder with deat...</td>\n",
       "    </tr>\n",
       "    <tr>\n",
       "      <th>32563</th>\n",
       "      <td>cal</td>\n",
       "      <td>NaN</td>\n",
       "      <td>CA</td>\n",
       "      <td>2017</td>\n",
       "      <td>2017-07-20T00:00:00Z</td>\n",
       "      <td>0</td>\n",
       "      <td>his general views about the death penalty as ...</td>\n",
       "    </tr>\n",
       "    <tr>\n",
       "      <th>32564</th>\n",
       "      <td>neb</td>\n",
       "      <td>NaN</td>\n",
       "      <td>NE</td>\n",
       "      <td>2017</td>\n",
       "      <td>2017-07-21T00:00:00Z</td>\n",
       "      <td>0</td>\n",
       "      <td>been subject to the death\\npenalty, because Ne...</td>\n",
       "    </tr>\n",
       "    <tr>\n",
       "      <th>32565</th>\n",
       "      <td>ohio</td>\n",
       "      <td>5374.0</td>\n",
       "      <td>OH</td>\n",
       "      <td>2017</td>\n",
       "      <td>2017-07-25T00:00:00Z</td>\n",
       "      <td>0</td>\n",
       "      <td>that Indiana law permits imposition of the de...</td>\n",
       "    </tr>\n",
       "    <tr>\n",
       "      <th>32566</th>\n",
       "      <td>tenncrimapp</td>\n",
       "      <td>8291.0</td>\n",
       "      <td>TN</td>\n",
       "      <td>2017</td>\n",
       "      <td>2017-07-20T00:00:00Z</td>\n",
       "      <td>0</td>\n",
       "      <td>original guilty\\nplea for which he received th...</td>\n",
       "    </tr>\n",
       "  </tbody>\n",
       "</table>\n",
       "<p>32567 rows × 7 columns</p>\n",
       "</div>"
      ],
      "text/plain": [
       "          court_id  author_id state  year             dateFiled  citeCount  \\\n",
       "0               nj        NaN    NJ  1965  1965-09-14T00:00:00Z          8   \n",
       "1              fla     4019.0    FL  1973  1973-07-26T00:00:00Z        552   \n",
       "2       texcrimapp     5765.0    TX  1975  1975-04-16T00:00:00Z        143   \n",
       "3               nm        NaN    NM  2009  2009-11-30T00:00:00Z          0   \n",
       "4       texcrimapp     5758.0    TX  1944  1944-12-20T00:00:00Z         56   \n",
       "...            ...        ...   ...   ...                   ...        ...   \n",
       "32562    ohioctapp     8055.0    OH  2017  2017-07-20T00:00:00Z          0   \n",
       "32563          cal        NaN    CA  2017  2017-07-20T00:00:00Z          0   \n",
       "32564          neb        NaN    NE  2017  2017-07-21T00:00:00Z          0   \n",
       "32565         ohio     5374.0    OH  2017  2017-07-25T00:00:00Z          0   \n",
       "32566  tenncrimapp     8291.0    TN  2017  2017-07-20T00:00:00Z          0   \n",
       "\n",
       "                                                 snippet  \n",
       "0      N.J.   ( )\\n  A. d  \\nIN RE WAIVER OF DEATH PE...  \n",
       "1      whether the death penalty is, per se, unconsti...  \n",
       "2      # ;s contention that the assessment of the dea...  \n",
       "3      . d   ( )\\n -NMSC- \\nIN THE MATTER OF DEATH PE...  \n",
       "4      assume the district attorney orally waived the...  \n",
       "...                                                  ...  \n",
       "32562    of two counts of aggravated murder with deat...  \n",
       "32563   his general views about the death penalty as ...  \n",
       "32564  been subject to the death\\npenalty, because Ne...  \n",
       "32565   that Indiana law permits imposition of the de...  \n",
       "32566  original guilty\\nplea for which he received th...  \n",
       "\n",
       "[32567 rows x 7 columns]"
      ]
     },
     "execution_count": 9,
     "metadata": {},
     "output_type": "execute_result"
    }
   ],
   "source": [
    "df"
   ]
  },
  {
   "cell_type": "code",
   "execution_count": 10,
   "metadata": {
    "ExecuteTime": {
     "end_time": "2022-04-28T11:26:48.223089Z",
     "start_time": "2022-04-28T11:26:22.347181Z"
    }
   },
   "outputs": [],
   "source": [
    "df = df.sample(n=2000)\n",
    "df[\"processed\"] = df[\"snippet\"].apply(lambda x: nlp(x))\n"
   ]
  },
  {
   "cell_type": "code",
   "execution_count": 11,
   "metadata": {
    "ExecuteTime": {
     "end_time": "2022-04-28T11:26:54.226289Z",
     "start_time": "2022-04-28T11:26:54.167246Z"
    }
   },
   "outputs": [],
   "source": [
    "def extract_subject_verb_pairs(sent):\n",
    "    subjs = [w for w in sent if w.dep_ == \"nsubj\"]\n",
    "    pairs = [(w.lemma_.lower(), w.head.lemma_.lower()) for w in subjs]\n",
    "    return pairs\n",
    "\n",
    "df[\"subj-verb-pairs\"] = df[\"processed\"].apply(lambda x: extract_subject_verb_pairs(x))"
   ]
  },
  {
   "cell_type": "code",
   "execution_count": 12,
   "metadata": {
    "ExecuteTime": {
     "end_time": "2022-04-28T11:26:55.499246Z",
     "start_time": "2022-04-28T11:26:55.480367Z"
    }
   },
   "outputs": [
    {
     "name": "stdout",
     "output_type": "stream",
     "text": [
      "('penalty', 'be') 229\n",
      "('-pron-', 'be') 192\n",
      "('state', 'seek') 160\n",
      "('-pron-', 'have') 70\n",
      "('statute', 'be') 52\n",
      "('jury', 'recommend') 48\n",
      "('-pron-', 'consider') 44\n",
      "('-pron-', 'vote') 43\n",
      "('this', 'be') 41\n",
      "('-pron-', 'find') 41\n",
      "('court', 'find') 39\n",
      "('that', 'be') 39\n",
      "('defendant', 'be') 38\n",
      "('-pron-', 'do') 33\n",
      "('court', 'hold') 32\n",
      "('jury', 'find') 31\n",
      "('-pron-', 'believe') 30\n",
      "('case', 'be') 29\n",
      "('-pron-', 'impose') 29\n",
      "('-pron-', 'say') 28\n",
      "('imposition', 'be') 27\n",
      "('who', 'be') 26\n",
      "('-pron-', 'seek') 25\n",
      "('-pron-', 'hold') 25\n",
      "('court', 'impose') 23\n"
     ]
    }
   ],
   "source": [
    "# most common pairs\n",
    "counter = Counter()\n",
    "for item in df[\"subj-verb-pairs\"]:\n",
    "    counter.update(item)\n",
    "    \n",
    "for pair, counts in counter.most_common(n=25):\n",
    "    print (pair, counts) # -pron- is a pronoun"
   ]
  },
  {
   "cell_type": "code",
   "execution_count": 13,
   "metadata": {
    "ExecuteTime": {
     "end_time": "2022-04-28T11:26:57.056681Z",
     "start_time": "2022-04-28T11:26:56.948455Z"
    }
   },
   "outputs": [
    {
     "data": {
      "text/plain": [
       "<spacy.lang.en.English at 0x17e83ef70>"
      ]
     },
     "execution_count": 13,
     "metadata": {},
     "output_type": "execute_result"
    }
   ],
   "source": [
    "# install coreference resolution for spacy\n",
    "# !pip install neuralcoref\n",
    "import neuralcoref\n",
    "neuralcoref.add_to_pipe(nlp)"
   ]
  },
  {
   "cell_type": "code",
   "execution_count": 15,
   "metadata": {
    "ExecuteTime": {
     "end_time": "2022-04-28T11:27:12.984788Z",
     "start_time": "2022-04-28T11:27:12.966722Z"
    }
   },
   "outputs": [
    {
     "name": "stdout",
     "output_type": "stream",
     "text": [
      "True\n",
      "[My sister: [My sister, She], a dog: [a dog, him]]\n",
      "My sister has a dog. My sister loves a dog.\n"
     ]
    }
   ],
   "source": [
    "# Coreference Resolution\n",
    "doc = nlp(u'My sister has a dog. She loves him.')\n",
    "print(doc._.has_coref)         ## True\n",
    "print(doc._.coref_clusters)    ## [My sister: [My sister, She], a dog: [a dog, him]]\n",
    "print(doc._.coref_resolved)    ## 'My sister has a dog. My sister loves a dog.'\n"
   ]
  },
  {
   "cell_type": "code",
   "execution_count": 16,
   "metadata": {
    "ExecuteTime": {
     "end_time": "2022-04-28T11:29:05.832742Z",
     "start_time": "2022-04-28T11:27:15.153917Z"
    }
   },
   "outputs": [],
   "source": [
    "df[\"corefs_resolved\"] = df[\"snippet\"].apply(lambda x: nlp(x))\n"
   ]
  },
  {
   "cell_type": "code",
   "execution_count": 21,
   "metadata": {
    "ExecuteTime": {
     "end_time": "2022-04-28T11:29:59.504591Z",
     "start_time": "2022-04-28T11:29:59.489370Z"
    }
   },
   "outputs": [],
   "source": [
    "def extract_subject_verb_pairs_coref(sent):\n",
    "    subjs = [w for w in sent if w.dep_ == \"nsubj\"]\n",
    "    pairs = []\n",
    "    for w in subjs:\n",
    "        # either a subject is part of a coreference chain, then we need to resolve the chain\n",
    "        if w._.in_coref:\n",
    "            cluster = w._.coref_clusters[0]\n",
    "            lemma = cluster.main.root.lemma_.lower()\n",
    "            pairs.append((lemma, w.head.lemma_.lower()))\n",
    "        # if it's not, we can just do the same as above\n",
    "        else:\n",
    "            pairs.append((w.lemma_.lower(), w.head.lemma_.lower()))\n",
    "    return pairs"
   ]
  },
  {
   "cell_type": "code",
   "execution_count": 22,
   "metadata": {
    "ExecuteTime": {
     "end_time": "2022-04-28T11:30:00.436687Z",
     "start_time": "2022-04-28T11:30:00.316098Z"
    }
   },
   "outputs": [
    {
     "name": "stdout",
     "output_type": "stream",
     "text": [
      "('penalty', 'be') 231\n",
      "('state', 'seek') 156\n",
      "('-pron-', 'be') 152\n",
      "('-pron-', 'have') 58\n",
      "('statute', 'be') 50\n",
      "('jury', 'recommend') 48\n",
      "('this', 'be') 41\n",
      "('defendant', 'be') 41\n",
      "('court', 'find') 40\n",
      "('that', 'be') 38\n",
      "('-pron-', 'find') 37\n",
      "('-pron-', 'consider') 35\n",
      "('-pron-', 'vote') 33\n",
      "('jury', 'find') 33\n",
      "('court', 'hold') 32\n",
      "('case', 'be') 30\n",
      "('court', 'impose') 27\n",
      "('-pron-', 'do') 26\n",
      "('imposition', 'be') 26\n",
      "('who', 'be') 25\n",
      "('-pron-', 'believe') 25\n",
      "('-pron-', 'hold') 25\n",
      "('-pron-', 'say') 22\n",
      "('jury', 'impose') 22\n",
      "('state', 'waive') 22\n"
     ]
    }
   ],
   "source": [
    "df[\"subj-verb-pairs-coref\"] = df[\"corefs_resolved\"].apply(lambda x: extract_subject_verb_pairs_coref(x))\n",
    "counter = Counter()\n",
    "for item in df[\"subj-verb-pairs-coref\"]:\n",
    "    counter.update(item)\n",
    "    \n",
    "for pair, counts in counter.most_common(n=25):\n",
    "    print (pair, counts)"
   ]
  },
  {
   "cell_type": "code",
   "execution_count": 24,
   "metadata": {
    "ExecuteTime": {
     "end_time": "2022-04-28T11:30:09.200403Z",
     "start_time": "2022-04-28T11:30:09.178654Z"
    }
   },
   "outputs": [
    {
     "name": "stdout",
     "output_type": "stream",
     "text": [
      "defendant be 41\n",
      "defendant eligible 19\n",
      "defendant receive 18\n",
      "defendant argue 16\n",
      "defendant contend 15\n",
      "defendant s 10\n",
      "defendant face 10\n",
      "defendant have 9\n",
      "defendant guilty 7\n",
      "defendant intend 5\n",
      "defendant claim 5\n",
      "defendant raise 5\n",
      "defendant deserve 5\n",
      "defendant waive 5\n",
      "defendant ask 4\n",
      "defendant move 4\n",
      "defendant seek 4\n",
      "defendant challenge 3\n",
      "defendant file 3\n",
      "defendant suffer 3\n",
      "defendant do 3\n",
      "defendant commit 3\n",
      "defendant appeal 3\n",
      "defendant qualify 2\n",
      "defendant make 2\n",
      "defendant assert 2\n",
      "defendant allege 2\n",
      "defendant get 2\n",
      "defendant plead 2\n",
      "defendant tell 2\n",
      "defendant risk 2\n",
      "defendant say 2\n",
      "defendant subject 2\n",
      "defendant find 2\n",
      "defendant acknowledge 2\n",
      "defendant hold 2\n"
     ]
    }
   ],
   "source": [
    "# verbs used with defendant\n",
    "\n",
    "for (subject, verb), counts in counter.most_common():\n",
    "    if subject == \"defendant\" and counts > 1:\n",
    "        print (subject, verb, counts)"
   ]
  },
  {
   "cell_type": "code",
   "execution_count": 25,
   "metadata": {
    "ExecuteTime": {
     "end_time": "2022-04-28T11:30:11.845418Z",
     "start_time": "2022-04-28T11:30:11.819312Z"
    }
   },
   "outputs": [
    {
     "name": "stdout",
     "output_type": "stream",
     "text": [
      "jury recommend 48\n",
      "jury find 33\n",
      "jury impose 22\n",
      "jury be 15\n",
      "jury return 8\n",
      "jury assess 7\n",
      "jury answer 6\n",
      "jury s 6\n",
      "jury consider 4\n",
      "jury give 4\n",
      "jury deliberate 4\n",
      "jury conclude 3\n",
      "jury reach 3\n",
      "jury sentence 3\n",
      "jury have 3\n",
      "jury fix 3\n",
      "jury may 3\n",
      "jury vote 3\n",
      "jury decide 3\n",
      "jury begin 2\n",
      "jury convict 2\n",
      "jury acquit 2\n",
      "jury reject 2\n",
      "jury charge 2\n",
      "jury participate 2\n",
      "jury choose 2\n",
      "jury direct 2\n"
     ]
    }
   ],
   "source": [
    "# verbs used with jury\n",
    "\n",
    "for (subject, verb), counts in counter.most_common():\n",
    "    if subject == \"jury\" and counts > 1:\n",
    "        print (subject, verb, counts)"
   ]
  },
  {
   "cell_type": "code",
   "execution_count": null,
   "metadata": {},
   "outputs": [],
   "source": []
  }
 ],
 "metadata": {
  "kernelspec": {
   "display_name": "Python 3 (ipykernel)",
   "language": "python",
   "name": "python3"
  },
  "language_info": {
   "codemirror_mode": {
    "name": "ipython",
    "version": 3
   },
   "file_extension": ".py",
   "mimetype": "text/x-python",
   "name": "python",
   "nbconvert_exporter": "python",
   "pygments_lexer": "ipython3",
   "version": "3.8.10"
  },
  "toc": {
   "base_numbering": 1,
   "nav_menu": {},
   "number_sections": true,
   "sideBar": true,
   "skip_h1_title": false,
   "title_cell": "Table of Contents",
   "title_sidebar": "Contents",
   "toc_cell": false,
   "toc_position": {},
   "toc_section_display": true,
   "toc_window_display": false
  }
 },
 "nbformat": 4,
 "nbformat_minor": 2
}
