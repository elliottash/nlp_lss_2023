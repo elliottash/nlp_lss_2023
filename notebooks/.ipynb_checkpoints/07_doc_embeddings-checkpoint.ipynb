{
 "cells": [
  {
   "cell_type": "markdown",
   "metadata": {},
   "source": [
    "**Document Embeddings**"
   ]
  },
  {
   "cell_type": "code",
   "execution_count": 1,
   "metadata": {},
   "outputs": [],
   "source": [
    "###\n",
    "# Setup\n",
    "###\n",
    "import numpy as np\n",
    "import pandas as pd\n",
    "df1 = pd.read_csv('death-penalty-cases.csv')\n",
    "\n",
    "# word2vec requires sentences as input\n",
    "from txt_utils import get_sentences\n",
    "sentences = []\n",
    "for doc in df1['snippet']:\n",
    "    sentences += get_sentences(doc)\n",
    "from random import shuffle\n",
    "shuffle(sentences) # stream in sentences in random order"
   ]
  },
  {
   "cell_type": "markdown",
   "metadata": {},
   "source": [
    "**Average word2vec Embeddings**"
   ]
  },
  {
   "cell_type": "code",
   "execution_count": 2,
   "metadata": {},
   "outputs": [
    {
     "data": {
      "text/plain": [
       "array([-0.01565365,  0.03890735,  0.04957038,  0.02919591,  0.02055856,\n",
       "        0.04036769,  0.03311942,  0.02373208,  0.03268646,  0.02614455,\n",
       "        0.03679549,  0.00379873, -0.06405071,  0.04071577,  0.02150792,\n",
       "       -0.00386672, -0.03841546,  0.05122682,  0.02182901, -0.01132445,\n",
       "       -0.02120029,  0.01947568, -0.0161361 , -0.01752919, -0.01343895,\n",
       "        0.01516963,  0.00354652,  0.01580906,  0.00158723, -0.01405498],\n",
       "      dtype=float32)"
      ]
     },
     "execution_count": 2,
     "metadata": {},
     "output_type": "execute_result"
    }
   ],
   "source": [
    "###\n",
    "# Make document vectors by averaging word embeddings in a document\n",
    "##\n",
    "\n",
    "# Continuous bag-of-words representation\n",
    "from gensim.models import Word2Vec\n",
    "w2v = Word2Vec.load('w2v-vectors.pkl')\n",
    "\n",
    "sentvecs = []\n",
    "for sentence in sentences:\n",
    "    vecs = [w2v.wv[w] for w in sentence if w in w2v.wv]\n",
    "    if len(vecs)== 0:\n",
    "        sentvecs.append(np.nan)\n",
    "        continue\n",
    "    sentvec = np.mean(vecs,axis=0)\n",
    "    sentvecs.append(sentvec.reshape(1,-1))\n",
    "sentvecs[0][0][:30]"
   ]
  },
  {
   "cell_type": "code",
   "execution_count": 3,
   "metadata": {},
   "outputs": [
    {
     "data": {
      "text/plain": [
       "0.7454929"
      ]
     },
     "execution_count": 3,
     "metadata": {},
     "output_type": "execute_result"
    }
   ],
   "source": [
    "from sklearn.metrics.pairwise import cosine_similarity\n",
    "cosine_similarity(sentvecs[0],\n",
    "                  sentvecs[1])[0][0]"
   ]
  },
  {
   "cell_type": "markdown",
   "metadata": {},
   "source": [
    "**Doc2Vec**"
   ]
  },
  {
   "cell_type": "code",
   "execution_count": 4,
   "metadata": {},
   "outputs": [],
   "source": [
    "###\n",
    "# Doc2Vec\n",
    "###\n",
    "\n",
    "from nltk import word_tokenize\n",
    "docs = []\n",
    "\n",
    "for i, row in df1.iterrows():\n",
    "    docs += [word_tokenize(row['snippet'])]\n",
    "shuffle(docs)"
   ]
  },
  {
   "cell_type": "code",
   "execution_count": 5,
   "metadata": {},
   "outputs": [],
   "source": [
    "from gensim.models.doc2vec import Doc2Vec, TaggedDocument\n",
    "doc_iterator = [TaggedDocument(doc, [i]) for i, doc in enumerate(docs)]\n",
    "d2v = Doc2Vec(doc_iterator,\n",
    "                min_count=10, # minimum word count\n",
    "                window=10,    # window size\n",
    "                vector_size=100, # size of document vector\n",
    "                sample=1e-4, \n",
    "                negative=5, \n",
    "                workers=4, # threads\n",
    "                #dbow_words = 1 # uncomment to get word vectors too\n",
    "                max_vocab_size=1000) # max vocab size"
   ]
  },
  {
   "cell_type": "code",
   "execution_count": 6,
   "metadata": {},
   "outputs": [],
   "source": [
    "d2v.save('d2v-vectors.pkl')"
   ]
  },
  {
   "cell_type": "code",
   "execution_count": 7,
   "metadata": {},
   "outputs": [
    {
     "data": {
      "text/plain": [
       "(32567, 100)"
      ]
     },
     "execution_count": 7,
     "metadata": {},
     "output_type": "execute_result"
    }
   ],
   "source": [
    "# matrix of all document vectors:\n",
    "D = d2v.docvecs.vectors_docs\n",
    "D.shape"
   ]
  },
  {
   "cell_type": "code",
   "execution_count": 8,
   "metadata": {},
   "outputs": [
    {
     "data": {
      "text/plain": [
       "array([[ 0.01007203, -0.01151024, -0.00695012, ..., -0.02537265,\n",
       "        -0.00462733, -0.01064147],\n",
       "       [ 0.00509031, -0.00198077,  0.00088507, ..., -0.01894499,\n",
       "         0.00394   , -0.01748081],\n",
       "       [-0.0034143 , -0.01275815,  0.01953427, ..., -0.0873723 ,\n",
       "        -0.00251018, -0.02113085],\n",
       "       ...,\n",
       "       [-0.0022999 , -0.01810182, -0.00512756, ..., -0.02926789,\n",
       "        -0.00121112,  0.00011984],\n",
       "       [ 0.0062967 , -0.00489218,  0.00093279, ..., -0.010656  ,\n",
       "         0.00338361, -0.00755452],\n",
       "       [-0.01195034,  0.00855388,  0.0177092 , ..., -0.02047521,\n",
       "         0.00307176, -0.00900842]], dtype=float32)"
      ]
     },
     "execution_count": 8,
     "metadata": {},
     "output_type": "execute_result"
    }
   ],
   "source": [
    "D"
   ]
  },
  {
   "cell_type": "code",
   "execution_count": 9,
   "metadata": {},
   "outputs": [],
   "source": [
    "# infer vectors for new documents\n",
    "a = d2v.infer_vector(['the judge on the court'])\n",
    "\n",
    "b = d2v.infer_vector(['the jury and the judge'])\n",
    "\n",
    "c = d2v.infer_vector(['cats hunt mice'])"
   ]
  },
  {
   "cell_type": "code",
   "execution_count": 10,
   "metadata": {},
   "outputs": [
    {
     "name": "stdout",
     "output_type": "stream",
     "text": [
      "[[0.18632594]]\n",
      "[[0.14812855]]\n"
     ]
    }
   ],
   "source": [
    "a.shape, b.shape\n",
    "print(cosine_similarity(np.expand_dims(a, axis=0), np.expand_dims(b, axis=0)))\n",
    "print(cosine_similarity(np.expand_dims(a, axis=0), np.expand_dims(c, axis=0)))\n"
   ]
  },
  {
   "cell_type": "code",
   "execution_count": 11,
   "metadata": {},
   "outputs": [
    {
     "data": {
      "text/plain": [
       "(32567, 32567)"
      ]
     },
     "execution_count": 11,
     "metadata": {},
     "output_type": "execute_result"
    }
   ],
   "source": [
    "# get all pair-wise document similarities\n",
    "pairwise_sims = cosine_similarity(D)\n",
    "pairwise_sims.shape"
   ]
  },
  {
   "cell_type": "code",
   "execution_count": 12,
   "metadata": {},
   "outputs": [
    {
     "data": {
      "text/plain": [
       "array([[1.0000001, 0.901857 , 0.9176217],\n",
       "       [0.901857 , 0.9999999, 0.9137324],\n",
       "       [0.9176217, 0.9137324, 1.0000002]], dtype=float32)"
      ]
     },
     "execution_count": 12,
     "metadata": {},
     "output_type": "execute_result"
    }
   ],
   "source": [
    "pairwise_sims[:3,:3]"
   ]
  },
  {
   "cell_type": "code",
   "execution_count": 13,
   "metadata": {},
   "outputs": [
    {
     "data": {
      "text/plain": [
       "KMeans(n_clusters=50)"
      ]
     },
     "execution_count": 13,
     "metadata": {},
     "output_type": "execute_result"
    }
   ],
   "source": [
    "# Document clusters\n",
    "from sklearn.cluster import KMeans\n",
    "\n",
    "# create 50 clusters of similar documents\n",
    "num_clusters = 50\n",
    "kmw = KMeans(n_clusters=num_clusters)\n",
    "kmw.fit(D)"
   ]
  },
  {
   "cell_type": "code",
   "execution_count": 14,
   "metadata": {},
   "outputs": [
    {
     "name": "stdout",
     "output_type": "stream",
     "text": [
      "committed to imposing the death penalty . She stated\n",
      "( g ) Propriety of the Death Penalty Defendant\n",
      "option of giving the death penalty ? A .\n",
      "for cause jurors who are unable to impose the\n",
      "have any moral or religious objections to the death\n",
      "jurors indicated that she had qualms about the death\n",
      "participating . O P I N I O N\n",
      "unconstitutionality of the death penalty in Missouri . First\n",
      "complains that a portion of the Witherspoon , or\n"
     ]
    }
   ],
   "source": [
    "# Documents from an example cluster\n",
    "for i, doc in enumerate(docs):\n",
    "    if kmw.labels_[i] == 25:\n",
    "        print(' '.join(doc[:9]))\n",
    "    if i == 1000:\n",
    "        break"
   ]
  },
  {
   "cell_type": "code",
   "execution_count": 15,
   "metadata": {},
   "outputs": [],
   "source": [
    "# t-SNE for visualization\n",
    "# from sklearn.manifold import TSNE\n",
    "# tsne = TSNE(n_components=2, verbose=1, perplexity=50, n_iter=300)\n",
    "# d2v_tsne = tsne.fit_transform(D)"
   ]
  },
  {
   "cell_type": "code",
   "execution_count": 16,
   "metadata": {},
   "outputs": [
    {
     "data": {
      "text/plain": [
       "array([0.7556026 , 0.06575315, 0.03936772], dtype=float32)"
      ]
     },
     "execution_count": 16,
     "metadata": {},
     "output_type": "execute_result"
    }
   ],
   "source": [
    "from sklearn.decomposition import PCA\n",
    "pca = PCA(n_components=3,svd_solver='randomized')\n",
    "Xpca = pca.fit_transform(D)\n",
    "pca.explained_variance_ratio_"
   ]
  },
  {
   "cell_type": "code",
   "execution_count": 17,
   "metadata": {},
   "outputs": [],
   "source": [
    "#vdf = pd.DataFrame(Xpca,\n",
    "#                  columns=['x-tsne', 'y-tsne'])\n",
    "#vdf['cluster'] = kmw.labels_"
   ]
  },
  {
   "cell_type": "code",
   "execution_count": 19,
   "metadata": {},
   "outputs": [
    {
     "data": {
      "image/png": "[encoded data removed]",
      "text/plain": [
       "<Figure size 432x288 with 1 Axes>"
      ]
     },
     "metadata": {
      "needs_background": "light"
     },
     "output_type": "display_data"
    }
   ],
   "source": [
    "#%% PCA Viz\n",
    "import matplotlib.pyplot as plt\n",
    "\n",
    "#plt.scatter(Xpca[:,0],Xpca[:,1], alpha=.1)\n",
    "\n",
    "cdict = {1: 'red', 2: 'blue', 3: 'green'}\n",
    "fig, ax = plt.subplots()\n",
    "#for g, label in cdict.items():\n",
    "for g in np.unique(kmw.labels_):\n",
    "    ix = np.where(kmw.labels_ == g)\n",
    "    #ix = np.where(kmw == g)\n",
    "    #    ax.scatter(scatter_x[ix], scatter_y[ix], c = cdict[g], label = g, s = 100)\n",
    "    if g in cdict:\n",
    "        # use color from cdict\n",
    "        color = cdict[g]\n",
    "        ax.scatter(Xpca[:,0][ix], Xpca[:,1][ix], c = color, label = g, s = 100, alpha=0.1)\n",
    "    else:\n",
    "        if g < 10:\n",
    "            color = \"black\"\n",
    "            ax.scatter(Xpca[:,0][ix], Xpca[:,1][ix], c = color, label = g, s = 100, alpha=0.01)\n",
    "    \n",
    "\n",
    "        \n",
    "ax.legend()\n",
    "plt.show()"
   ]
  },
  {
   "cell_type": "code",
   "execution_count": 20,
   "metadata": {},
   "outputs": [
    {
     "data": {
      "text/plain": [
       "('N.J.   ( )\\n  A. d  \\nIN RE WAIVER OF DEATH PENALTY.\\nThe Supreme Court of New Jersey.\\nSeptember & ; and County Court Judges\\n\\nRe: Waiver of the Death Penalty\\n*  The Supreme Court is concerned by the excessive& ;cases where the prosecutor is not seeking the death penalty. It is cognizant of the fact that this situation& ;Although the prosecutor had a right to waive the death penalty and so inform the jury, the jury nevertheless& ;would assume, as did the prosecutor, that the death penalty would not be returned as it was not asked for',\n",
       " 0     N.J.   ( )\\n  A. d  \\nIN RE WAIVER OF DEATH PE...\n",
       " 1     whether the death penalty is, per se, unconsti...\n",
       " 2     # ;s contention that the assessment of the dea...\n",
       " 3     . d   ( )\\n -NMSC- \\nIN THE MATTER OF DEATH PE...\n",
       " 4     assume the district attorney orally waived the...\n",
       "                             ...                        \n",
       " 95    guilty as to all defendants and imposing the d...\n",
       " 96     present death penalty statutes, juries could ...\n",
       " 97    adjudged guilty of murder in the first degree ...\n",
       " 98    the Court, in its discretion, to impose the de...\n",
       " 99    trial the State was barred from seeking the de...\n",
       " Name: snippet, Length: 100, dtype: object)"
      ]
     },
     "execution_count": 20,
     "metadata": {},
     "output_type": "execute_result"
    }
   ],
   "source": [
    "# sample 100 texts to show different document embeddings techniques\n",
    "\n",
    "texts = df1[\"snippet\"][:100]\n",
    "text = texts[0]\n",
    "text, texts"
   ]
  },
  {
   "cell_type": "markdown",
   "metadata": {},
   "source": [
    "**Other types of Document Embeddings**"
   ]
  },
  {
   "cell_type": "code",
   "execution_count": 21,
   "metadata": {},
   "outputs": [
    {
     "data": {
      "text/plain": [
       "array([ 0.20430338, -0.2567533 , -0.02306902, -0.8766618 ,  0.95168144,\n",
       "       -0.02246722,  0.66894627,  0.4406781 , -0.6752475 ,  0.9030032 ,\n",
       "        0.58323574, -0.42557463,  0.3588796 ,  0.7357971 , -0.6806984 ,\n",
       "        0.35501376, -0.04721715,  0.20714815, -0.4822883 ,  0.32712767,\n",
       "       -0.2222287 ,  0.42462564,  1.0001506 , -1.0555578 ,  0.24779357,\n",
       "        0.89857805, -1.7120546 , -1.3771088 , -0.4918279 , -0.70307416,\n",
       "       -0.02710542, -0.78331864,  0.19273752, -0.55076206, -0.5462378 ,\n",
       "        0.20845698,  0.12983356, -0.28522107, -0.26439404, -0.32552677,\n",
       "        1.266796  ,  0.3650614 ,  0.5329269 , -0.45635462,  0.8055457 ,\n",
       "       -0.86057615,  0.07101551,  0.9271979 ,  0.07538687,  0.5181876 ,\n",
       "       -0.86646116, -0.8433204 , -0.6902801 , -0.7334907 ,  0.06175952,\n",
       "        1.0599734 ,  0.36529124,  0.9412022 , -0.46317074,  0.21488601,\n",
       "       -0.06826341, -0.24556416,  0.9832385 , -0.9066351 , -0.5355074 ,\n",
       "        1.384116  ,  0.78551155, -0.21280114,  0.50987977,  0.09660241,\n",
       "       -0.60536873, -0.05296579,  0.28142488, -0.17083195,  0.42058197,\n",
       "        0.16493186,  0.3035476 ,  0.35992062,  0.09765977,  0.18039252,\n",
       "       -0.20972735,  0.6145602 ,  0.4816155 , -0.91004944, -0.09632464,\n",
       "        0.43145344,  0.48626405,  0.21933256,  0.8359276 ,  0.23068917,\n",
       "       -0.53756434, -0.23583655, -0.33651993,  0.68808126,  0.614493  ,\n",
       "       -0.9399081 ], dtype=float32)"
      ]
     },
     "execution_count": 21,
     "metadata": {},
     "output_type": "execute_result"
    }
   ],
   "source": [
    "# spacy embeddings (= averaged gloVe embeddings)\n",
    "\n",
    "import spacy\n",
    "nlp = spacy.load('en_core_web_sm')\n",
    "\n",
    "doc = nlp(text)\n",
    "doc.vector"
   ]
  },
  {
   "cell_type": "markdown",
   "metadata": {},
   "source": [
    "**Uinversal Sentence Encoder**"
   ]
  },
  {
   "cell_type": "code",
   "execution_count": 22,
   "metadata": {},
   "outputs": [
    {
     "name": "stdout",
     "output_type": "stream",
     "text": [
      "Requirement already satisfied: tensorflow-hub in /home/dominsta/anaconda3/envs/legal_dna/lib/python3.6/site-packages (0.12.0)\n",
      "Requirement already satisfied: protobuf>=3.8.0 in /home/dominsta/anaconda3/envs/legal_dna/lib/python3.6/site-packages (from tensorflow-hub) (3.15.3)\n",
      "Requirement already satisfied: numpy>=1.12.0 in /home/dominsta/anaconda3/envs/legal_dna/lib/python3.6/site-packages (from tensorflow-hub) (1.19.2)\n",
      "Requirement already satisfied: six>=1.9 in /home/dominsta/anaconda3/envs/legal_dna/lib/python3.6/site-packages (from protobuf>=3.8.0->tensorflow-hub) (1.15.0)\n"
     ]
    }
   ],
   "source": [
    "# universal sentence encoder\n",
    "!pip install --upgrade tensorflow-hub"
   ]
  },
  {
   "cell_type": "code",
   "execution_count": 23,
   "metadata": {},
   "outputs": [
    {
     "name": "stdout",
     "output_type": "stream",
     "text": [
      "module https://tfhub.dev/google/universal-sentence-encoder/4 loaded\n"
     ]
    }
   ],
   "source": [
    "import tensorflow.compat.v1 as tf\n",
    "tf.disable_eager_execution()\n",
    "\n",
    "import tensorflow_hub as hub\n",
    "import numpy as np\n",
    "\n",
    "module_url = \"https://tfhub.dev/google/universal-sentence-encoder/4\"\n",
    "model = hub.load(module_url)\n",
    "print (\"module %s loaded\" % module_url)\n",
    "def embed(input):\n",
    "    return model(input)\n",
    "\n",
    "embeddings = embed([text])\n",
    "\n",
    "with tf.Session() as session:\n",
    "    session.run([tf.global_variables_initializer(), tf.tables_initializer()])\n",
    "    text_encoded = session.run(embeddings)\n",
    "\n"
   ]
  },
  {
   "cell_type": "code",
   "execution_count": 24,
   "metadata": {},
   "outputs": [
    {
     "data": {
      "text/plain": [
       "array([[-5.75881824e-02, -4.48679030e-02, -5.97576126e-02,\n",
       "        -9.60363168e-03,  4.87335995e-02, -7.14329928e-02,\n",
       "         5.63881639e-03, -4.17736433e-02,  6.94411248e-02,\n",
       "        -7.18879625e-02,  4.38294820e-02,  4.96255234e-02,\n",
       "         2.92646587e-02,  5.06393984e-02,  5.02831228e-02,\n",
       "        -5.43750636e-02,  1.20794239e-05,  3.34073193e-02,\n",
       "        -2.29960158e-02,  5.17977662e-02,  1.33965146e-02,\n",
       "         2.34781913e-02,  6.57833815e-02, -2.41349339e-02,\n",
       "        -5.89741208e-02,  4.48849648e-02,  8.91342852e-03,\n",
       "        -1.31372968e-02, -5.10081872e-02,  8.32203683e-03,\n",
       "         3.43775153e-02, -6.50016218e-02,  3.18928063e-02,\n",
       "        -5.33328876e-02, -6.16215728e-02, -6.11270331e-02,\n",
       "        -4.20963168e-02,  1.39375571e-02,  6.44128211e-03,\n",
       "         6.65995404e-02, -3.60511839e-02, -1.41065717e-02,\n",
       "        -7.03568989e-03, -4.17812057e-02, -4.14931811e-02,\n",
       "         5.47352843e-02,  2.42106542e-02, -6.66408762e-02,\n",
       "        -3.75430100e-02, -5.52068017e-02, -5.62858582e-02,\n",
       "         2.34167539e-02, -2.46009615e-04, -3.62469181e-02,\n",
       "         5.84556051e-02, -1.19022094e-02,  1.35805625e-02,\n",
       "        -2.09912136e-02,  2.57177353e-02,  3.68852466e-02,\n",
       "         2.89555863e-02, -7.16965944e-02, -6.71194270e-02,\n",
       "        -5.62569983e-02, -6.26460612e-02, -2.31802557e-03,\n",
       "         6.46430941e-04, -3.25500295e-02,  5.84330559e-02,\n",
       "        -2.78239623e-02, -4.40593809e-02,  5.00813834e-02,\n",
       "         5.45638762e-02,  1.52425347e-02, -5.16110733e-02,\n",
       "         5.53971790e-02, -3.97276618e-02, -7.19104055e-03,\n",
       "        -3.19625288e-02,  2.81222519e-02,  3.27161998e-02,\n",
       "         5.26327528e-02,  4.08336148e-02, -3.97042222e-02,\n",
       "         3.92537117e-02,  5.15507758e-02, -2.43257303e-02,\n",
       "        -6.83559999e-02, -5.75247519e-02, -3.89330694e-03,\n",
       "         1.27130440e-02, -3.56010497e-02, -2.78743152e-02,\n",
       "         5.00874817e-02,  3.39257233e-02,  6.18343689e-02,\n",
       "        -2.88681015e-02, -4.27132286e-02,  6.71129525e-02,\n",
       "         5.30268811e-02,  4.23771851e-02,  3.84856686e-02,\n",
       "         4.57194448e-02, -3.67692276e-03, -5.01842499e-02,\n",
       "         6.35010079e-02,  4.45687883e-02,  5.41359521e-02,\n",
       "        -5.20542674e-02,  1.92875005e-02, -7.18637481e-02,\n",
       "        -6.90566748e-02, -4.43461128e-02,  1.80851500e-02,\n",
       "         3.60683575e-02, -4.42595966e-02,  9.48091969e-03,\n",
       "        -5.13651334e-02,  5.69242761e-02, -1.87393744e-02,\n",
       "        -6.36358038e-02, -3.11253779e-02,  7.12575540e-02,\n",
       "        -4.92579378e-02,  4.56739366e-02,  6.21738881e-02,\n",
       "        -3.58330719e-02,  6.19079918e-02,  8.33672658e-03,\n",
       "         3.22547625e-03,  1.78055726e-02, -1.57813262e-02,\n",
       "         4.56121042e-02, -5.28710485e-02,  3.03336643e-02,\n",
       "         2.72688661e-02,  5.19837290e-02,  5.69335856e-02,\n",
       "        -5.39881848e-02,  4.87620309e-02,  7.18623921e-02,\n",
       "         6.92109540e-02, -5.36522754e-02, -2.25441363e-02,\n",
       "        -7.18903765e-02,  6.36499673e-02,  2.57652402e-02,\n",
       "        -5.78045798e-03,  6.10490851e-02,  5.43593280e-02,\n",
       "        -5.25526218e-02, -5.05263731e-02,  7.14829937e-02,\n",
       "        -3.80050740e-03,  4.57900353e-02, -7.76314922e-03,\n",
       "        -5.10090403e-02,  4.71491292e-02,  4.91744839e-02,\n",
       "         7.18597695e-02,  4.81418744e-02, -5.28066494e-02,\n",
       "        -4.31954041e-02,  2.21855119e-02, -6.72398210e-02,\n",
       "         1.58195514e-02,  1.06483344e-02,  6.10979162e-02,\n",
       "         2.03974880e-02,  5.90458103e-02,  6.61262348e-02,\n",
       "        -7.11063370e-02, -2.88640819e-02, -3.73625308e-02,\n",
       "         6.65676445e-02, -1.31539814e-02, -9.93632246e-03,\n",
       "         6.18681386e-02, -7.18846843e-02, -4.59878258e-02,\n",
       "        -4.03941758e-02,  5.80870509e-02, -4.69674636e-03,\n",
       "        -1.30659593e-02,  1.55199077e-02, -2.29559070e-03,\n",
       "         3.90610211e-02,  5.84163889e-02,  3.44378315e-02,\n",
       "         1.14671737e-02,  5.57489172e-02,  7.18900487e-02,\n",
       "         6.16836473e-02,  6.13202294e-03,  2.58541424e-02,\n",
       "        -1.91231724e-02, -6.28645197e-02, -4.68323380e-02,\n",
       "        -8.45316518e-03, -2.05094516e-02,  5.91697581e-02,\n",
       "         1.18468916e-02,  4.86733019e-02, -6.37313277e-02,\n",
       "        -4.10703048e-02,  1.00922855e-02,  2.75565758e-02,\n",
       "        -1.09474333e-02,  3.35147865e-02, -7.18838722e-02,\n",
       "        -6.06816001e-02, -9.03251022e-03,  8.79594591e-03,\n",
       "         2.02519745e-02, -6.49900511e-02, -2.27649119e-02,\n",
       "         6.28081784e-02,  5.56494435e-03,  2.62934342e-02,\n",
       "        -4.88502756e-02, -4.90821786e-02, -4.24843580e-02,\n",
       "        -2.74451617e-02, -5.56749515e-02, -4.44267392e-02,\n",
       "         1.38691161e-02,  4.11525555e-02,  9.12552699e-03,\n",
       "        -1.84298102e-02,  5.44150127e-03, -6.10671863e-02,\n",
       "         3.46029624e-02,  5.15771732e-02, -7.18844309e-02,\n",
       "         8.55935831e-03,  5.87392934e-02,  3.58940975e-04,\n",
       "         7.14616030e-02, -1.77089032e-02, -2.76565761e-03,\n",
       "        -3.19172777e-02, -4.48680744e-02,  1.39335068e-02,\n",
       "        -5.99155352e-02,  6.55213892e-02,  6.57890690e-03,\n",
       "        -1.92191955e-02, -1.93697643e-02, -6.52742758e-02,\n",
       "         2.90091336e-02,  6.90639019e-02,  8.59379675e-03,\n",
       "        -2.36415174e-02, -8.51765089e-03,  6.23869821e-02,\n",
       "         1.03972396e-02,  6.47296309e-02,  7.18750432e-02,\n",
       "        -8.68868548e-03, -4.06991988e-02,  6.25571385e-02,\n",
       "        -4.98059094e-02, -2.65888758e-02,  4.07539196e-02,\n",
       "         2.44097356e-02,  5.53742386e-02,  2.15645544e-02,\n",
       "         3.31456102e-02,  2.05953382e-02, -3.68103050e-02,\n",
       "         1.69059690e-02,  4.55088280e-02,  6.15946203e-02,\n",
       "        -4.88846824e-02,  1.56313907e-02, -1.77674573e-02,\n",
       "        -5.70891239e-02,  3.47145158e-03,  7.02950731e-02,\n",
       "         2.54506748e-02, -2.04104669e-02,  1.24838091e-02,\n",
       "        -4.79193144e-02,  7.93974102e-03, -3.98793258e-02,\n",
       "        -5.60252890e-02,  4.24295180e-02,  5.31271510e-02,\n",
       "        -2.19230745e-02,  2.46288329e-02,  4.61323485e-02,\n",
       "         1.19957346e-02,  5.35853356e-02,  9.46211163e-03,\n",
       "         4.40840572e-02, -4.90906872e-02, -3.48378457e-02,\n",
       "         7.16276690e-02, -2.99495701e-02,  4.54113595e-02,\n",
       "        -1.92827024e-02, -5.54252677e-02,  4.01891582e-02,\n",
       "         6.72287270e-02, -1.74281448e-02, -6.63687214e-02,\n",
       "         3.01695019e-02, -6.47938177e-02,  1.15546174e-02,\n",
       "        -3.54526229e-02,  6.98282495e-02, -3.98734733e-02,\n",
       "         6.84608221e-02, -2.64858305e-02,  5.59238531e-02,\n",
       "         6.41909763e-02,  1.15259765e-02, -4.49631028e-02,\n",
       "         4.60579153e-03,  3.60007919e-02,  6.65105588e-04,\n",
       "        -3.20600234e-02, -2.41626706e-02,  1.45808654e-02,\n",
       "         3.39584872e-02,  7.02204630e-02,  7.14001730e-02,\n",
       "         5.54940104e-02, -5.05202748e-02,  3.53366658e-02,\n",
       "         1.66026801e-02,  6.97467327e-02, -6.33645877e-02,\n",
       "         6.93330616e-02,  6.81502745e-02, -5.22747375e-02,\n",
       "         5.11308871e-02,  6.03152551e-02,  1.54768792e-03,\n",
       "        -4.86813709e-02, -2.00195648e-02, -9.76813398e-03,\n",
       "         5.54402918e-02,  6.71509653e-02,  1.12499101e-02,\n",
       "         3.35161894e-04, -2.76186038e-03,  2.82902271e-02,\n",
       "        -3.01805977e-02, -5.57862297e-02, -7.17835054e-02,\n",
       "         4.27322499e-02, -4.05779406e-02,  5.37222326e-02,\n",
       "         6.80401772e-02,  5.77598922e-02, -7.12140948e-02,\n",
       "         3.44145335e-02, -4.17619646e-02,  5.66201322e-02,\n",
       "         3.71359475e-02, -6.93786368e-02,  5.22317402e-02,\n",
       "         2.56413966e-02, -3.39727364e-02, -6.25362247e-02,\n",
       "         6.28085509e-02,  7.93613400e-03,  3.05272099e-02,\n",
       "        -5.42374477e-02, -2.29322314e-02, -2.89752372e-02,\n",
       "        -6.76442236e-02,  6.71091452e-02, -2.92269494e-02,\n",
       "         4.58851866e-02,  2.99971588e-02, -3.91376205e-02,\n",
       "         4.01773080e-02, -3.43686156e-02, -5.56034110e-02,\n",
       "        -7.04385340e-02, -7.17256069e-02, -2.47399434e-02,\n",
       "         5.56181483e-02,  2.13594851e-03,  2.79178694e-02,\n",
       "         4.69978303e-02,  5.42858765e-02,  2.73393728e-02,\n",
       "        -2.62994952e-02,  2.75041889e-02, -2.63684876e-02,\n",
       "        -2.43713669e-02,  4.29801382e-02,  4.58339602e-02,\n",
       "        -3.69191207e-02, -7.16732070e-02, -4.65591718e-03,\n",
       "        -6.04898371e-02, -4.97304350e-02,  1.98242068e-02,\n",
       "         2.58898363e-02, -5.98924868e-02,  1.13050109e-02,\n",
       "         1.07481768e-02,  1.24368193e-02,  4.68694046e-02,\n",
       "        -4.62102108e-02, -2.88291425e-02, -3.94758247e-02,\n",
       "         5.59999384e-02, -4.83375266e-02, -4.25436273e-02,\n",
       "         6.22376949e-02,  4.49044863e-03,  4.49034646e-02,\n",
       "         3.95164378e-02, -6.85119480e-02,  4.59304452e-02,\n",
       "        -6.20505922e-02,  5.81153063e-03,  6.83963075e-02,\n",
       "        -6.26238510e-02, -1.50271729e-02, -6.09554537e-02,\n",
       "         3.60577255e-02,  6.80440962e-02,  5.00815995e-02,\n",
       "        -5.22403084e-02,  6.97130337e-02, -5.89712709e-02,\n",
       "         5.08961268e-03,  4.69410047e-02,  3.28420401e-02,\n",
       "        -8.32743291e-03,  2.56966334e-02,  5.77719100e-02,\n",
       "        -4.33300622e-02,  6.55280892e-03, -1.53162895e-04,\n",
       "        -5.91867231e-02, -1.64618175e-02,  4.24511582e-02,\n",
       "        -4.99092415e-02,  5.55542856e-02, -3.88963223e-02,\n",
       "         1.47706354e-02,  3.99326459e-02, -2.08781660e-02,\n",
       "        -2.22735461e-02,  1.65837258e-02, -6.55230880e-02,\n",
       "         5.91874793e-02,  5.63246980e-02,  4.82745320e-02,\n",
       "        -1.24468114e-02,  6.95365742e-02, -7.18903020e-02,\n",
       "        -1.47243952e-02,  3.94028090e-02,  4.40237895e-02,\n",
       "        -5.41733531e-03,  9.80535056e-03, -9.22551670e-04,\n",
       "         2.15122029e-02,  4.80177440e-02,  3.85324024e-02,\n",
       "        -6.39583543e-02,  9.30835400e-03, -3.02824434e-02,\n",
       "        -2.07148995e-02, -2.95436867e-02, -4.75761630e-02,\n",
       "        -4.97196279e-02, -6.81980839e-03, -2.27114540e-02,\n",
       "        -3.40811573e-02, -1.56523399e-02,  4.03554216e-02,\n",
       "        -6.81311637e-02,  5.11711538e-02,  1.28032509e-02,\n",
       "        -7.14039505e-02,  4.48545888e-02, -5.86881675e-02,\n",
       "        -1.12336166e-02, -3.90600786e-02, -5.56260720e-02,\n",
       "        -6.17771596e-02,  6.75841868e-02, -2.62047518e-02,\n",
       "        -3.53269093e-03, -1.00123296e-02,  2.11055996e-03,\n",
       "         4.17902768e-02, -7.53597182e-04, -4.04326804e-02,\n",
       "         3.47518511e-02, -2.96440404e-02,  6.02212921e-03,\n",
       "        -5.95282502e-02,  3.84532996e-02, -7.06549808e-02,\n",
       "         2.57007480e-02, -4.65198979e-02,  2.74119750e-02,\n",
       "         1.38046267e-02, -2.34182812e-02,  4.23506163e-02,\n",
       "        -3.62337492e-02,  4.67079394e-02]], dtype=float32)"
      ]
     },
     "execution_count": 24,
     "metadata": {},
     "output_type": "execute_result"
    }
   ],
   "source": [
    "text_encoded"
   ]
  },
  {
   "cell_type": "markdown",
   "metadata": {},
   "source": [
    "**SBERT**"
   ]
  },
  {
   "cell_type": "code",
   "execution_count": 25,
   "metadata": {},
   "outputs": [
    {
     "name": "stdout",
     "output_type": "stream",
     "text": [
      "Requirement already satisfied: sentence-transformers in /home/dominsta/anaconda3/envs/legal_dna/lib/python3.6/site-packages (1.1.0)\n",
      "Requirement already satisfied: transformers<5.0.0,>=3.1.0 in /home/dominsta/anaconda3/envs/legal_dna/lib/python3.6/site-packages (from sentence-transformers) (3.5.1)\n",
      "Requirement already satisfied: sentencepiece in /home/dominsta/anaconda3/envs/legal_dna/lib/python3.6/site-packages (from sentence-transformers) (0.1.91)\n",
      "Requirement already satisfied: scikit-learn in /home/dominsta/anaconda3/envs/legal_dna/lib/python3.6/site-packages (from sentence-transformers) (0.24.1)\n",
      "Requirement already satisfied: numpy in /home/dominsta/anaconda3/envs/legal_dna/lib/python3.6/site-packages (from sentence-transformers) (1.19.2)\n",
      "Requirement already satisfied: nltk in /home/dominsta/anaconda3/envs/legal_dna/lib/python3.6/site-packages (from sentence-transformers) (3.5)\n",
      "Requirement already satisfied: tqdm in /home/dominsta/anaconda3/envs/legal_dna/lib/python3.6/site-packages (from sentence-transformers) (4.56.0)\n",
      "Requirement already satisfied: scipy in /home/dominsta/anaconda3/envs/legal_dna/lib/python3.6/site-packages (from sentence-transformers) (1.5.4)\n",
      "Requirement already satisfied: torch>=1.6.0 in /home/dominsta/anaconda3/envs/legal_dna/lib/python3.6/site-packages (from sentence-transformers) (1.7.1)\n",
      "Requirement already satisfied: dataclasses in /home/dominsta/anaconda3/envs/legal_dna/lib/python3.6/site-packages (from torch>=1.6.0->sentence-transformers) (0.8)\n",
      "Requirement already satisfied: typing-extensions in /home/dominsta/anaconda3/envs/legal_dna/lib/python3.6/site-packages (from torch>=1.6.0->sentence-transformers) (3.7.4.3)\n",
      "Requirement already satisfied: sacremoses in /home/dominsta/anaconda3/envs/legal_dna/lib/python3.6/site-packages (from transformers<5.0.0,>=3.1.0->sentence-transformers) (0.0.43)\n",
      "Requirement already satisfied: packaging in /home/dominsta/anaconda3/envs/legal_dna/lib/python3.6/site-packages (from transformers<5.0.0,>=3.1.0->sentence-transformers) (20.9)\n",
      "Requirement already satisfied: tokenizers==0.9.3 in /home/dominsta/anaconda3/envs/legal_dna/lib/python3.6/site-packages (from transformers<5.0.0,>=3.1.0->sentence-transformers) (0.9.3)\n",
      "Requirement already satisfied: regex!=2019.12.17 in /home/dominsta/anaconda3/envs/legal_dna/lib/python3.6/site-packages (from transformers<5.0.0,>=3.1.0->sentence-transformers) (2020.11.13)\n",
      "Requirement already satisfied: requests in /home/dominsta/anaconda3/envs/legal_dna/lib/python3.6/site-packages (from transformers<5.0.0,>=3.1.0->sentence-transformers) (2.25.1)\n",
      "Requirement already satisfied: protobuf in /home/dominsta/anaconda3/envs/legal_dna/lib/python3.6/site-packages (from transformers<5.0.0,>=3.1.0->sentence-transformers) (3.15.3)\n",
      "Requirement already satisfied: filelock in /home/dominsta/anaconda3/envs/legal_dna/lib/python3.6/site-packages (from transformers<5.0.0,>=3.1.0->sentence-transformers) (3.0.12)\n",
      "Requirement already satisfied: click in /home/dominsta/anaconda3/envs/legal_dna/lib/python3.6/site-packages (from nltk->sentence-transformers) (7.1.2)\n",
      "Requirement already satisfied: joblib in /home/dominsta/anaconda3/envs/legal_dna/lib/python3.6/site-packages (from nltk->sentence-transformers) (1.0.1)\n",
      "Requirement already satisfied: pyparsing>=2.0.2 in /home/dominsta/anaconda3/envs/legal_dna/lib/python3.6/site-packages (from packaging->transformers<5.0.0,>=3.1.0->sentence-transformers) (2.4.7)\n",
      "Requirement already satisfied: six>=1.9 in /home/dominsta/anaconda3/envs/legal_dna/lib/python3.6/site-packages (from protobuf->transformers<5.0.0,>=3.1.0->sentence-transformers) (1.15.0)\n",
      "Requirement already satisfied: idna<3,>=2.5 in /home/dominsta/anaconda3/envs/legal_dna/lib/python3.6/site-packages (from requests->transformers<5.0.0,>=3.1.0->sentence-transformers) (2.10)\n",
      "Requirement already satisfied: certifi>=2017.4.17 in /home/dominsta/anaconda3/envs/legal_dna/lib/python3.6/site-packages (from requests->transformers<5.0.0,>=3.1.0->sentence-transformers) (2020.12.5)\n",
      "Requirement already satisfied: urllib3<1.27,>=1.21.1 in /home/dominsta/anaconda3/envs/legal_dna/lib/python3.6/site-packages (from requests->transformers<5.0.0,>=3.1.0->sentence-transformers) (1.26.3)\n",
      "Requirement already satisfied: chardet<5,>=3.0.2 in /home/dominsta/anaconda3/envs/legal_dna/lib/python3.6/site-packages (from requests->transformers<5.0.0,>=3.1.0->sentence-transformers) (3.0.4)\n",
      "Requirement already satisfied: threadpoolctl>=2.0.0 in /home/dominsta/anaconda3/envs/legal_dna/lib/python3.6/site-packages (from scikit-learn->sentence-transformers) (2.1.0)\n"
     ]
    }
   ],
   "source": [
    "!pip install sentence-transformers"
   ]
  },
  {
   "cell_type": "code",
   "execution_count": 26,
   "metadata": {},
   "outputs": [
    {
     "name": "stderr",
     "output_type": "stream",
     "text": [
      "/home/dominsta/anaconda3/envs/legal_dna/lib/python3.6/site-packages/torch/cuda/__init__.py:52: UserWarning: CUDA initialization: Found no NVIDIA driver on your system. Please check that you have an NVIDIA GPU and installed a driver from http://www.nvidia.com/Download/index.aspx (Triggered internally at  /pytorch/c10/cuda/CUDAFunctions.cpp:100.)\n",
      "  return torch._C._cuda_getDeviceCount() > 0\n"
     ]
    }
   ],
   "source": [
    "from sentence_transformers import SentenceTransformer\n",
    "model = \"bert-base-nli-mean-tokens\"\n",
    "embedder = SentenceTransformer(model)\n",
    "text_encoded = embedder.encode([text])"
   ]
  },
  {
   "cell_type": "code",
   "execution_count": 27,
   "metadata": {},
   "outputs": [
    {
     "data": {
      "text/plain": [
       "array([[-4.94830966e-01, -3.07748556e-01,  2.38643914e-01,\n",
       "        -1.12242237e-01,  3.68262798e-01, -2.13435546e-01,\n",
       "         8.10864329e-01, -2.53932685e-01,  8.49518925e-02,\n",
       "         4.34111170e-02, -5.32024261e-03,  4.72682863e-01,\n",
       "         9.99894589e-02,  4.15400177e-01, -1.31251180e+00,\n",
       "         4.92496759e-01,  1.40618742e-01, -3.23016375e-01,\n",
       "         1.41712904e-01, -3.53501439e-01,  4.34756912e-02,\n",
       "        -7.69812390e-02,  2.29930565e-01,  5.27145088e-01,\n",
       "         9.18621957e-01,  6.17869616e-01, -5.80663562e-01,\n",
       "         2.21835509e-01, -7.82554150e-01,  5.84526479e-01,\n",
       "        -1.58552855e-01,  2.56740063e-01, -1.15312088e+00,\n",
       "         5.24759712e-03,  6.55009449e-02,  5.42442739e-01,\n",
       "         1.94233000e-01, -1.94006115e-01,  2.46753126e-01,\n",
       "         1.75806195e-01, -6.84099078e-01,  1.05391599e-01,\n",
       "        -3.26745361e-01, -2.70014197e-01, -1.21031448e-01,\n",
       "        -4.18343723e-01,  1.40245199e+00,  4.35339093e-01,\n",
       "         9.15403306e-01, -1.82648867e-01,  3.20812911e-01,\n",
       "        -3.37160528e-02,  2.50564069e-01,  6.34266019e-01,\n",
       "        -8.73694569e-02, -3.58801275e-01,  2.10094407e-01,\n",
       "        -1.33581173e+00, -5.36160946e-01, -6.65951014e-01,\n",
       "        -1.74879777e+00,  1.99232280e-01,  3.76123428e-01,\n",
       "         7.68952444e-02, -2.29368150e-01,  6.20273769e-01,\n",
       "         3.97528075e-02,  4.03672755e-01, -6.55950904e-01,\n",
       "        -1.03310645e+00, -2.63909131e-01, -6.79480016e-01,\n",
       "        -3.81375343e-01, -2.27513745e-01,  1.59781545e-01,\n",
       "         3.76415439e-02,  4.05864537e-01, -4.15389717e-01,\n",
       "         5.55446804e-01,  9.55578163e-02, -1.74441203e-01,\n",
       "         1.85953557e-01,  9.73316208e-02, -6.60527647e-02,\n",
       "         3.92818332e-01, -7.35286772e-02,  4.76899534e-01,\n",
       "        -1.57018945e-01,  5.07554933e-02,  2.37077817e-01,\n",
       "         3.44092041e-01,  8.78543735e-01,  2.68818945e-01,\n",
       "        -2.50641763e-01, -1.52339089e+00, -4.51913737e-02,\n",
       "         8.85809362e-01,  3.25627446e-01,  1.29079834e-01,\n",
       "         8.13653469e-01,  1.32442400e-01, -1.80368647e-01,\n",
       "         4.88336414e-01,  3.23032826e-01, -7.34840110e-02,\n",
       "        -3.91306341e-01,  5.74954748e-01, -2.41364524e-01,\n",
       "        -2.30796367e-01,  6.88165188e-01,  6.29660189e-01,\n",
       "        -4.35485214e-01,  6.02914453e-01, -1.38478011e-01,\n",
       "        -7.83147514e-01, -9.89378914e-02, -8.45814943e-01,\n",
       "         2.52879024e-01,  5.69936872e-01,  1.03368807e+00,\n",
       "         4.46310580e-01, -6.19129896e-01,  1.87330171e-01,\n",
       "         3.73134851e-01,  5.39432347e-01, -4.47433770e-01,\n",
       "         7.40261018e-01,  8.50257993e-01, -9.92434144e-01,\n",
       "         1.40852621e-03,  5.91125607e-01,  6.97640836e-01,\n",
       "        -5.67044057e-02, -1.40537381e-01, -4.68162358e-01,\n",
       "         3.42601150e-01,  2.83307713e-02, -1.23147416e+00,\n",
       "         8.01840603e-01, -1.70997620e-01, -6.10755421e-02,\n",
       "        -5.40796101e-01,  1.09734952e+00, -1.38616931e+00,\n",
       "        -3.00004750e-01, -3.02745342e-01,  8.50539923e-01,\n",
       "        -1.16841853e-01,  1.39101356e-01, -7.08590388e-01,\n",
       "         8.22298229e-02, -3.12404007e-01, -4.37126875e-01,\n",
       "         5.62887490e-01, -1.31694242e-01, -9.63340402e-01,\n",
       "         9.02546495e-02,  8.85734782e-02, -1.89751282e-01,\n",
       "         5.22285581e-01, -3.47676098e-01, -2.84024596e-01,\n",
       "         4.49691355e-01,  4.07626182e-01,  5.47265947e-01,\n",
       "        -5.35683692e-01,  3.94391537e-01, -3.08115095e-01,\n",
       "         2.83940583e-01, -1.85430348e-01, -7.28028238e-01,\n",
       "         1.73794895e-01,  1.53900135e+00, -4.30610448e-01,\n",
       "         1.77929330e+00,  7.27843463e-01, -8.05242360e-02,\n",
       "        -2.07652375e-02,  5.54291680e-02, -3.65855128e-01,\n",
       "        -2.92562097e-01,  9.74238932e-01, -1.18804216e+00,\n",
       "         6.00906909e-01, -1.50523275e-01, -8.61144543e-01,\n",
       "         3.98380667e-01, -2.03205198e-01,  5.86120546e-01,\n",
       "        -8.03966999e-01, -4.48113799e-01,  7.55533874e-01,\n",
       "         5.10871828e-01,  2.40429506e-01, -1.95608109e-01,\n",
       "        -3.24224949e-01, -2.33524874e-01,  6.46924913e-01,\n",
       "        -9.93757784e-01,  3.11269850e-01, -4.98785526e-02,\n",
       "         2.06499636e-01,  7.67876565e-01, -2.07203522e-01,\n",
       "        -5.49774945e-01,  4.98629272e-01,  1.14301831e-01,\n",
       "        -1.65152892e-01, -4.20421809e-01, -2.25722447e-01,\n",
       "        -4.42287982e-01,  9.59571600e-02, -3.01172018e-01,\n",
       "         4.29889858e-01,  1.27024144e-01, -6.14401400e-01,\n",
       "         2.54112363e-01, -6.83308482e-01,  1.71400309e+00,\n",
       "         1.70571774e-01,  3.94288868e-01,  5.01924396e-01,\n",
       "         6.54986277e-02,  8.14680457e-01, -5.14162146e-02,\n",
       "         6.97415948e-01, -6.13715112e-01, -1.43163651e-01,\n",
       "        -4.46613669e-01,  1.59437227e+00,  1.28557906e-02,\n",
       "         2.73687780e-01, -6.95271730e-01, -1.85752600e-01,\n",
       "        -1.97744355e-01, -2.98595577e-01, -1.40229321e+00,\n",
       "         1.20836169e-01,  7.58048177e-01, -7.09800601e-01,\n",
       "         4.02997375e-01,  2.24645987e-01,  6.67314172e-01,\n",
       "         5.27510822e-01, -1.84893623e-01, -9.13691968e-02,\n",
       "        -6.35023654e-01, -6.41418695e-01, -3.05117190e-01,\n",
       "         3.43878567e-01, -1.28545618e+00,  1.43710766e-02,\n",
       "         1.29957661e-01, -2.52061814e-01,  2.99791276e-01,\n",
       "        -2.33998179e-01,  3.63007151e-02,  5.39415061e-01,\n",
       "        -2.91223645e-01, -6.17981553e-01, -2.11940959e-01,\n",
       "         4.65131328e-02, -5.75435162e-01,  5.19802943e-02,\n",
       "        -7.05936015e-01, -2.27681566e-02, -6.45391226e-01,\n",
       "         8.46533835e-01, -1.01438880e+00,  3.46472204e-01,\n",
       "        -3.38978469e-01, -9.87775564e-01, -2.22396076e-01,\n",
       "         5.78691721e-01, -1.09522092e+00, -9.80650112e-02,\n",
       "        -5.43909669e-01, -6.53541610e-02,  4.18575078e-01,\n",
       "         3.87089849e-01,  5.32745779e-01,  3.55758756e-01,\n",
       "        -6.74408019e-01,  2.69137591e-01, -2.57263064e-01,\n",
       "         2.67571867e-01,  6.34924829e-01, -4.90365744e-01,\n",
       "        -5.59578359e-01,  2.01252058e-01, -3.93838644e-01,\n",
       "         1.76680937e-01,  1.61203399e-01, -3.14106554e-01,\n",
       "         4.18515176e-01, -4.87893701e-01,  6.08222425e-01,\n",
       "        -6.47856772e-01,  7.21287727e-01, -5.61722398e-01,\n",
       "        -1.73136607e-01, -4.82341766e-01, -1.12035580e-01,\n",
       "         1.14114332e+00, -5.84037781e-01,  3.75974685e-01,\n",
       "         1.78564742e-01,  6.72815740e-01, -8.25780928e-02,\n",
       "        -1.38282120e-01, -2.74486154e-01, -2.35197753e-01,\n",
       "         1.44599527e-01,  1.01501346e+00,  9.56066251e-01,\n",
       "        -6.69430315e-01, -1.37930751e-01, -4.91008043e-01,\n",
       "         4.16740716e-01, -5.25136530e-01,  5.88584423e-01,\n",
       "         1.94438711e-01,  1.83207825e-01, -9.93643608e-03,\n",
       "         1.56002477e-01, -1.17795753e+00,  9.85644460e-02,\n",
       "         1.83731094e-01,  2.78073579e-01, -8.67668927e-01,\n",
       "         2.32138291e-01, -8.50152910e-01,  1.09212303e+00,\n",
       "         8.63697171e-01,  2.08133146e-01,  5.28289855e-01,\n",
       "        -2.94759661e-01,  2.40429506e-01,  1.71175636e-02,\n",
       "        -5.64055562e-01,  1.46337092e+00, -6.49668097e-01,\n",
       "         5.11160679e-02,  6.73074841e-01,  1.16160780e-01,\n",
       "        -2.80180033e-02, -1.47454292e-02,  6.10695779e-01,\n",
       "        -5.56327820e-01, -4.62058373e-02, -1.84999615e-01,\n",
       "         6.29542351e-01,  5.68884671e-01,  2.78860956e-01,\n",
       "        -1.68803990e-01,  2.77572840e-01, -5.60225070e-01,\n",
       "         6.12227082e-01, -1.15539355e-03,  1.33354098e-01,\n",
       "        -4.84295607e-01,  5.84887385e-01, -7.33433306e-01,\n",
       "         1.73293576e-02, -1.39701307e-01,  5.58863655e-02,\n",
       "        -5.87092996e-01,  9.75126997e-02,  1.98314622e-01,\n",
       "        -5.33573449e-01, -4.68975753e-01,  6.87533915e-01,\n",
       "         1.27745062e-01, -3.82242143e-01, -4.84663904e-01,\n",
       "        -2.03487545e-01,  1.96506709e-01, -4.32732761e-01,\n",
       "        -1.80200905e-01, -5.15706874e-02, -4.52756405e-01,\n",
       "        -3.11416984e-01,  5.78519404e-01, -5.68014026e-01,\n",
       "        -4.54190731e-01, -6.62279546e-01,  3.42526466e-01,\n",
       "        -4.96874601e-02,  1.76707715e-01,  3.15550894e-01,\n",
       "        -6.29932387e-03,  3.19062471e-01, -8.42140242e-02,\n",
       "         6.78643286e-02,  2.92368025e-01,  8.25792030e-02,\n",
       "        -4.73762393e-01, -2.19510317e-01,  2.12455288e-01,\n",
       "         4.97488648e-01, -6.73275411e-01,  3.26950327e-02,\n",
       "         1.31066829e-01, -5.84229946e-01,  6.80440485e-01,\n",
       "        -1.67175606e-01, -1.41102061e-01,  4.89527881e-02,\n",
       "         3.15580547e-01, -1.74364179e-01,  2.64624536e-01,\n",
       "        -1.07606792e+00, -1.22858174e-01, -1.71772808e-01,\n",
       "        -5.38425684e-01,  4.00503725e-01, -6.96898699e-01,\n",
       "        -1.16829419e+00, -1.01237845e+00,  3.35559279e-01,\n",
       "         7.19877720e-01,  3.17486376e-02,  6.01902544e-01,\n",
       "        -7.89185464e-01,  2.99960613e-01,  6.89593196e-01,\n",
       "        -8.48610997e-02, -7.39989877e-01,  3.50488633e-01,\n",
       "         3.36766779e-01, -2.09047645e-01, -2.08878249e-01,\n",
       "        -6.21688724e-01, -8.96527898e-03, -1.04092091e-01,\n",
       "        -2.32593492e-02, -2.59467840e-01,  6.14958942e-01,\n",
       "         2.81655848e-01, -3.15845191e-01, -6.59689844e-01,\n",
       "         2.62233704e-01,  4.59171861e-01, -7.58673549e-02,\n",
       "        -6.46409094e-01, -3.07322234e-01, -1.60025686e-01,\n",
       "         1.18041217e+00,  5.10421574e-01,  6.33687004e-02,\n",
       "        -9.02742986e-03, -8.01623285e-01, -1.21303253e-01,\n",
       "         3.08762163e-01,  8.13876092e-01, -3.18043172e-01,\n",
       "        -8.41938734e-01,  7.60779455e-02, -4.31387037e-01,\n",
       "         1.30853087e-01, -2.21216723e-01, -4.30371650e-02,\n",
       "         2.37276345e-01, -3.44481260e-01,  3.39225054e-01,\n",
       "         4.00186598e-01,  4.02098805e-01, -1.08866119e+00,\n",
       "        -1.75745293e-01,  1.84032843e-01, -2.91465521e-01,\n",
       "        -7.52038062e-01,  2.31503502e-01,  6.78881764e-01,\n",
       "        -3.78049552e-01, -1.13098407e+00, -1.34805644e+00,\n",
       "         1.92357153e-01, -8.23721170e-01,  1.17990203e-01,\n",
       "        -7.07406849e-02, -4.30685163e-01,  6.41726017e-01,\n",
       "        -2.78190225e-01, -2.24553555e-01, -1.00141525e+00,\n",
       "        -9.51508343e-01,  1.85192540e-01,  3.55753988e-01,\n",
       "        -9.39522207e-01, -6.80952370e-01,  3.27828266e-02,\n",
       "         5.88379353e-02, -1.14128757e+00,  6.83751702e-01,\n",
       "        -1.11088610e+00, -1.81136534e-01,  3.44852030e-01,\n",
       "         5.43866873e-01, -3.67731392e-01,  6.76228762e-01,\n",
       "         2.33847752e-01,  5.06072640e-01,  2.30398268e-01,\n",
       "         1.32623982e+00, -5.11282086e-01, -2.29955852e-01,\n",
       "         2.10391935e-02,  6.77833915e-01,  1.90719783e-01,\n",
       "        -8.02388117e-02,  1.44706905e-01, -1.34389952e-01,\n",
       "        -1.09617516e-01, -2.13816434e-01,  3.43628228e-01,\n",
       "         9.54831913e-02,  1.35019973e-01, -2.88150221e-01,\n",
       "        -4.13649768e-01,  4.60018635e-01,  6.79810166e-01,\n",
       "         5.07494509e-01, -8.17099988e-01,  3.14388305e-01,\n",
       "        -4.07320231e-01, -6.15099788e-01,  7.24801600e-01,\n",
       "         1.56621084e-01, -6.46359086e-01, -1.99094921e-01,\n",
       "        -1.91104770e-01, -1.12996576e-02,  5.10291994e-01,\n",
       "        -3.87059957e-01, -3.03098470e-01,  5.45878261e-02,\n",
       "         4.39845026e-01, -5.02579331e-01, -6.56696618e-01,\n",
       "        -4.68895495e-01,  2.34149262e-01,  1.41624808e-01,\n",
       "        -1.17470752e-02, -1.09074676e+00, -4.62100565e-01,\n",
       "        -3.62395883e-01,  4.21995938e-01, -3.63819957e-01,\n",
       "         3.61360341e-01, -2.17309356e-01, -6.73977137e-01,\n",
       "         2.40062416e-01,  1.59744006e-02,  1.86107025e-01,\n",
       "         2.84808893e-02, -1.52771205e-01,  4.61891443e-01,\n",
       "        -9.38615054e-02,  4.56041962e-01,  3.34798962e-01,\n",
       "         6.77886963e-01, -1.35896727e-01,  4.14668381e-01,\n",
       "         1.39468566e-01, -1.83572218e-01, -2.72616684e-01,\n",
       "        -3.42840821e-01, -6.23292089e-01, -4.77970928e-01,\n",
       "         9.46875364e-02, -8.44023287e-01,  6.32980466e-01,\n",
       "        -3.90775144e-01, -2.95011044e-01,  3.52559626e-01,\n",
       "         4.20095861e-01, -8.78449798e-01, -1.49703130e-01,\n",
       "        -3.56268346e-01,  5.27825773e-01, -2.23304212e-01,\n",
       "        -6.58546686e-01,  2.28997663e-01, -6.29695952e-01,\n",
       "         2.21199498e-01,  1.94177106e-01, -2.59450018e-01,\n",
       "        -3.80530834e-01, -1.71957627e-01, -5.10862112e-01,\n",
       "        -2.86442280e-01, -7.76477158e-02,  1.09614044e-01,\n",
       "         4.72533256e-01,  6.97635472e-01, -8.43884110e-01,\n",
       "        -4.39936131e-01,  2.25004524e-01, -9.85311389e-01,\n",
       "         2.20579207e-01, -3.24908316e-01, -2.20096022e-01,\n",
       "         2.19809115e-01, -4.38357256e-02,  7.20593929e-01,\n",
       "         7.69402146e-01,  1.16782218e-01, -7.00331211e-01,\n",
       "         1.00626297e-01,  6.96710229e-01, -4.64360714e-01,\n",
       "         1.13802115e-02,  1.96150243e-01, -6.54532015e-01,\n",
       "        -4.90937889e-01, -5.19809186e-01,  1.75999403e-01,\n",
       "        -5.26391387e-01, -2.64054537e-01,  9.43650544e-01,\n",
       "         3.09482574e-01,  2.71842599e-01,  4.36679274e-02,\n",
       "         2.87242234e-01, -2.69183666e-01, -1.00473315e-01,\n",
       "        -4.32935923e-01, -2.61140794e-01,  2.86742330e-01,\n",
       "         4.89725173e-01, -3.96405399e-01,  4.87634480e-01,\n",
       "         5.81988037e-01, -1.25586167e-01,  1.04623485e+00,\n",
       "         3.03153723e-01,  2.59901702e-01, -3.31272751e-01,\n",
       "         5.64391375e-01, -7.48955548e-01,  1.06745875e+00,\n",
       "        -3.90471846e-01,  8.27850923e-02,  6.69528484e-01,\n",
       "        -3.61634970e-01, -2.54908409e-02,  3.10721118e-02,\n",
       "         7.74991274e-01,  3.06731880e-01,  1.83820531e-01,\n",
       "         6.89335048e-01,  3.34201545e-01,  1.51050538e-01,\n",
       "        -1.41044110e-01,  5.29356226e-02,  6.91402853e-02,\n",
       "        -1.46188229e-01, -4.85347986e-01,  6.76764429e-01,\n",
       "         4.16773200e-01, -1.07475780e-01,  4.88357365e-01,\n",
       "         2.82419562e-01,  9.50514153e-02,  7.58635581e-01,\n",
       "        -1.67980224e-01,  9.25911814e-02,  1.89386636e-01,\n",
       "         4.92715329e-01,  3.07846844e-01, -4.51806903e-01,\n",
       "         1.62840575e-01,  1.49903417e-01,  9.45544004e-01,\n",
       "         2.70319641e-01, -3.30272615e-01, -1.05753697e-01,\n",
       "         5.45998551e-02, -5.10668695e-01, -2.56186351e-02,\n",
       "        -9.88171935e-01, -1.81063846e-01, -1.02946794e+00,\n",
       "         1.02955830e+00, -1.49236441e-01, -3.12292218e-01,\n",
       "         8.02145302e-01, -1.38841748e-01, -2.24863980e-02,\n",
       "         2.96779852e-02, -4.37600970e-01, -4.57905054e-01,\n",
       "        -9.60874498e-01, -2.43809801e-02, -4.47530240e-01,\n",
       "        -3.74768376e-01,  4.25203621e-01, -4.28958476e-01,\n",
       "         9.25444126e-01, -7.78042138e-01,  5.44282138e-01,\n",
       "        -6.01466000e-01, -3.34512055e-01,  9.79600668e-01,\n",
       "         2.84722686e-01,  4.43952173e-01,  4.48060185e-01,\n",
       "         1.42330021e-01,  1.97741151e-01, -2.23847017e-01,\n",
       "         7.12708950e-01, -4.73314404e-01, -2.01137438e-01,\n",
       "        -9.62886810e-01,  1.70262650e-01, -2.51300514e-01,\n",
       "        -6.39112964e-02, -6.92217469e-01,  3.89449179e-01,\n",
       "        -2.18413323e-01, -1.56035125e-01, -8.70952129e-01,\n",
       "        -7.05168843e-01,  7.75943279e-01,  8.55133906e-02,\n",
       "         2.24175543e-01, -6.46434352e-02,  1.36370078e-01,\n",
       "        -5.69571972e-01,  6.81264326e-02,  3.53915453e-01,\n",
       "         1.69931009e-01, -2.56172776e-01,  6.47336125e-01,\n",
       "         5.58914423e-01, -3.95075455e-02, -2.93877661e-01,\n",
       "        -5.68687201e-01, -1.11683416e+00, -2.10368291e-01,\n",
       "         4.61813182e-01, -8.34288746e-02, -1.46796182e-01,\n",
       "         3.85752857e-01, -9.22246575e-02, -6.93681896e-01,\n",
       "        -2.16034502e-01,  2.65551060e-01,  7.76298404e-01,\n",
       "        -3.22662532e-01, -1.77186117e-01,  7.17960954e-01,\n",
       "         6.17642581e-01, -6.78558171e-01, -2.95927167e-01,\n",
       "        -3.06377709e-01, -1.85924530e-01, -8.25985014e-01,\n",
       "         3.12023722e-02, -7.17976838e-02, -1.52973223e+00,\n",
       "         1.78838268e-01, -8.58503520e-01, -1.77482456e-01,\n",
       "         1.54243067e-01, -5.96778691e-01, -1.67773187e-01]], dtype=float32)"
      ]
     },
     "execution_count": 27,
     "metadata": {},
     "output_type": "execute_result"
    }
   ],
   "source": [
    "text_encoded"
   ]
  },
  {
   "cell_type": "code",
   "execution_count": null,
   "metadata": {},
   "outputs": [],
   "source": []
  }
 ],
 "metadata": {
  "kernelspec": {
   "display_name": "Python 3 (ipykernel)",
   "language": "python",
   "name": "python3"
  },
  "language_info": {
   "codemirror_mode": {
    "name": "ipython",
    "version": 3
   },
   "file_extension": ".py",
   "mimetype": "text/x-python",
   "name": "python",
   "nbconvert_exporter": "python",
   "pygments_lexer": "ipython3",
   "version": "3.8.10"
  },
  "toc": {
   "base_numbering": 1,
   "nav_menu": {},
   "number_sections": true,
   "sideBar": true,
   "skip_h1_title": false,
   "title_cell": "Table of Contents",
   "title_sidebar": "Contents",
   "toc_cell": false,
   "toc_position": {},
   "toc_section_display": true,
   "toc_window_display": false
  }
 },
 "nbformat": 4,
 "nbformat_minor": 2
}
