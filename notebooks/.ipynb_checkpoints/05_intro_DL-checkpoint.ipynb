{
 "cells": [
  {
   "cell_type": "markdown",
   "metadata": {},
   "source": [
    "## Keras MLP \n",
    "\n",
    "For more information about keras, have a look [here](https://keras.io/)."
   ]
  },
  {
   "cell_type": "markdown",
   "metadata": {},
   "source": [
    "**Classification**"
   ]
  },
  {
   "cell_type": "code",
   "execution_count": null,
   "metadata": {
    "ExecuteTime": {
     "end_time": "2022-03-24T21:33:47.819107Z",
     "start_time": "2022-03-24T21:33:37.226995Z"
    }
   },
   "outputs": [],
   "source": [
    "# setup\n",
    "%matplotlib notebook\n",
    "# set this to your working directory\n",
    "\n",
    "import pandas as pd\n",
    "import numpy as np\n",
    "import matplotlib.pyplot as plt\n",
    "\n",
    "df = pd.read_pickle('sc_cases_cleaned.pkl',compression='gzip')\n",
    "df=df.reset_index(drop=True)\n",
    "from sklearn.feature_extraction.text import CountVectorizer\n",
    "vectorizer = CountVectorizer(min_df=0.01, # at min 1% of docs\n",
    "                        max_df=.9,  \n",
    "                        max_features=1000,\n",
    "                        stop_words='english',\n",
    "                        ngram_range=(1,3))\n",
    "X = vectorizer.fit_transform(df['opinion_text'])\n",
    "pd.to_pickle(X,'X.pkl')\n",
    "vocab = vectorizer.get_feature_names()\n",
    "pd.to_pickle(vocab,'vocab.pkl')\n",
    "Y = df['x_republican']\n",
    "\n",
    "X.shape"
   ]
  },
  {
   "cell_type": "code",
   "execution_count": null,
   "metadata": {
    "ExecuteTime": {
     "end_time": "2022-03-24T21:33:52.752704Z",
     "start_time": "2022-03-24T21:33:50.344498Z"
    }
   },
   "outputs": [],
   "source": [
    "# Getting started with Keras\n",
    "from keras.models import Sequential\n",
    "from keras.layers import Dense\n",
    "\n",
    "model = Sequential() # create a sequential model\n",
    "model.add(Dense(50, # output neurons in layer       \n",
    "          input_dim=X.shape[1], # number of inputs\n",
    "          activation='relu')) # activation function\n",
    "model.add(Dense(50, activation='relu')) # hidden layer\n",
    "model.add(Dense(1, activation='sigmoid')) # output layer\n",
    "model.summary()"
   ]
  },
  {
   "cell_type": "code",
   "execution_count": null,
   "metadata": {
    "ExecuteTime": {
     "end_time": "2022-03-24T21:46:11.993921Z",
     "start_time": "2022-03-24T21:46:09.827658Z"
    }
   },
   "outputs": [],
   "source": [
    "# Visualize a model\n",
    "\n",
    "# Requires graphviz!\n",
    "\n",
    "!pip install pydot\n",
    "from IPython.display import SVG\n",
    "from keras.utils.vis_utils import model_to_dot\n",
    "from keras.utils.vis_utils import plot_model\n",
    "plot_model(model, to_file='model_plot.png', show_shapes=True, show_layer_names=True)"
   ]
  },
  {
   "cell_type": "code",
   "execution_count": null,
   "metadata": {
    "ExecuteTime": {
     "end_time": "2022-03-24T21:46:18.481645Z",
     "start_time": "2022-03-24T21:46:18.457293Z"
    }
   },
   "outputs": [],
   "source": [
    "# fit the model\n",
    "model.compile(loss='binary_crossentropy', # cost function\n",
    "              optimizer='adam', # use adam as the optimizer\n",
    "              metrics=['accuracy']) # compute accuracy, for scoring\n",
    "\n"
   ]
  },
  {
   "cell_type": "code",
   "execution_count": null,
   "metadata": {
    "ExecuteTime": {
     "end_time": "2022-03-24T21:46:21.626130Z",
     "start_time": "2022-03-24T21:46:19.450146Z"
    }
   },
   "outputs": [],
   "source": [
    "model_info = model.fit(X.todense(), Y, \n",
    "                      epochs=5,\n",
    "                      validation_split=.2)"
   ]
  },
  {
   "cell_type": "code",
   "execution_count": null,
   "metadata": {
    "ExecuteTime": {
     "end_time": "2022-03-24T21:46:23.217168Z",
     "start_time": "2022-03-24T21:46:23.193524Z"
    }
   },
   "outputs": [],
   "source": [
    "# these are the learned coefficients\n",
    "model.get_weights()"
   ]
  },
  {
   "cell_type": "code",
   "execution_count": null,
   "metadata": {
    "ExecuteTime": {
     "end_time": "2022-03-24T21:46:26.250881Z",
     "start_time": "2022-03-24T21:46:26.218593Z"
    }
   },
   "outputs": [],
   "source": [
    "# Plot performance by epoch\n",
    "plt.plot(model_info.epoch,model_info.history['accuracy'])\n",
    "plt.plot(model_info.epoch,model_info.history['val_accuracy'])\n",
    "plt.legend(['train', 'val'], loc='best')"
   ]
  },
  {
   "cell_type": "code",
   "execution_count": null,
   "metadata": {
    "ExecuteTime": {
     "end_time": "2022-03-24T21:46:29.332445Z",
     "start_time": "2022-03-24T21:46:29.182496Z"
    }
   },
   "outputs": [],
   "source": [
    "# form probability distribution over classes\n",
    "Ypred_prob = model.predict(X.todense())\n",
    "print (Ypred_prob.squeeze()[:5])\n",
    "Ypred = (Ypred_prob > .5).astype(float)\n",
    "print (Ypred.squeeze()[:5])"
   ]
  },
  {
   "cell_type": "code",
   "execution_count": null,
   "metadata": {
    "ExecuteTime": {
     "end_time": "2022-03-24T21:46:31.524431Z",
     "start_time": "2022-03-24T21:46:31.120346Z"
    }
   },
   "outputs": [],
   "source": [
    "# Save a model\n",
    "model.save('keras-clf.pkl')"
   ]
  },
  {
   "cell_type": "code",
   "execution_count": null,
   "metadata": {
    "ExecuteTime": {
     "end_time": "2022-03-24T21:46:32.573236Z",
     "start_time": "2022-03-24T21:46:32.160259Z"
    }
   },
   "outputs": [],
   "source": [
    "# load model\n",
    "from keras.models import load_model\n",
    "model = load_model('keras-clf.pkl')"
   ]
  },
  {
   "cell_type": "markdown",
   "metadata": {},
   "source": [
    "**Regression**"
   ]
  },
  {
   "cell_type": "code",
   "execution_count": null,
   "metadata": {
    "ExecuteTime": {
     "end_time": "2022-03-24T21:46:36.883299Z",
     "start_time": "2022-03-24T21:46:34.549874Z"
    }
   },
   "outputs": [],
   "source": [
    "# Regression model with R-squared\n",
    "Yreg = df['log_cite_count']\n",
    "\n",
    "\n",
    "model = Sequential() # create a sequential model\n",
    "model.add(Dense(100, # output neurons in layer       \n",
    "          input_dim=X.shape[1], # number of inputs\n",
    "          activation='relu')) # activation function\n",
    "model.add(Dense(50, activation='relu')) # hidden layer\n",
    "model.add(Dense(1)) # output layer\n",
    "\n",
    "from keras import backend as K\n",
    "def r2(y_true, y_pred):\n",
    "    SS_res =  K.sum(K.square( y_true-y_pred )) \n",
    "    SS_tot = K.sum(K.square( y_true - K.mean(y_true) ) ) \n",
    "    return ( 1 - SS_res/(SS_tot + K.epsilon()) )\n",
    "\n",
    "model.compile(loss='mean_squared_error', # cost function\n",
    "              optimizer='adam', # use adam as the optimizer\n",
    "              metrics=[r2]) # compute r-squared\n",
    "model_info = model.fit(X.todense(), Yreg, \n",
    "                      epochs=15)\n",
    "\n",
    "from sklearn.metrics import r2_score\n",
    "Ypred = model.predict(X.todense())\n",
    "\n",
    "print (Yreg[:5], Ypred.squeeze()[:5])\n",
    "r2_score(Yreg,Ypred.squeeze())\n"
   ]
  },
  {
   "cell_type": "code",
   "execution_count": null,
   "metadata": {
    "ExecuteTime": {
     "end_time": "2022-03-24T21:46:39.331226Z",
     "start_time": "2022-03-24T21:46:39.235933Z"
    }
   },
   "outputs": [],
   "source": [
    "%matplotlib inline\n",
    "\n",
    "# Plot performance by epoch\n",
    "plt.plot(model_info.epoch,model_info.history['r2'])\n",
    "plt.legend(['train', 'val'], loc='best')\n"
   ]
  },
  {
   "cell_type": "markdown",
   "metadata": {},
   "source": [
    "## Autoencoders\n",
    "\n",
    "neural nets that perform domain-specific lossy compression"
   ]
  },
  {
   "cell_type": "code",
   "execution_count": null,
   "metadata": {
    "ExecuteTime": {
     "end_time": "2022-03-24T21:46:41.490148Z",
     "start_time": "2022-03-24T21:46:41.431181Z"
    }
   },
   "outputs": [],
   "source": [
    "# Autoencoder\n",
    "\n",
    "from keras.models import Sequential\n",
    "from keras.layers import Dense\n",
    "\n",
    "model = Sequential() # create a sequential model\n",
    "model.add(Dense(100, # first compression layer       \n",
    "          input_dim=X.shape[1], # number of inputs\n",
    "          activation='relu')) # activation function\n",
    "model.add(Dense(25, activation='relu', name=\"compression_layer\")) # final compression layer layer\n",
    "model.add(Dense(100, activation='relu')) # first reconstruction layer\n",
    "model.add(Dense(X.shape[1], activation='relu')) # final reconstruction layer\n",
    "model.summary()"
   ]
  },
  {
   "cell_type": "code",
   "execution_count": null,
   "metadata": {
    "ExecuteTime": {
     "end_time": "2022-03-24T21:46:42.425449Z",
     "start_time": "2022-03-24T21:46:42.214394Z"
    }
   },
   "outputs": [],
   "source": [
    "# Visualize a model\n",
    "\n",
    "# Requires graphviz\n",
    "from IPython.display import SVG\n",
    "from keras.utils.vis_utils import model_to_dot\n",
    "dot = model_to_dot(model,\n",
    "                   show_shapes=True,\n",
    "                   show_layer_names=False,\n",
    "                   dpi=70)\n",
    "SVG(dot.create(prog='dot', format='svg'))"
   ]
  },
  {
   "cell_type": "code",
   "execution_count": null,
   "metadata": {
    "ExecuteTime": {
     "end_time": "2022-03-24T21:46:46.702021Z",
     "start_time": "2022-03-24T21:46:44.085178Z"
    }
   },
   "outputs": [],
   "source": [
    "# fit the model\n",
    "model.compile(loss='mean_squared_error', # cost function\n",
    "              optimizer='adam', # use adam as the optimizer\n",
    "              metrics=[r2]) # compute accuracy, for scoring\n",
    "\n",
    "model_info = model.fit(X.todense(), X.todense(), \n",
    "                      epochs=10,\n",
    "                      validation_split=.2)"
   ]
  },
  {
   "cell_type": "code",
   "execution_count": null,
   "metadata": {
    "ExecuteTime": {
     "end_time": "2022-03-24T21:46:48.177892Z",
     "start_time": "2022-03-24T21:46:48.058313Z"
    }
   },
   "outputs": [],
   "source": [
    "# compress the data\n",
    "\n",
    "import keras\n",
    "\n",
    "\n",
    "compression_model = keras.Model(inputs=model.input,\n",
    "                                       outputs=model.get_layer(\"compression_layer\").output)\n",
    "X_compressed = compression_model(X.todense())\n",
    "print (X_compressed.shape)"
   ]
  },
  {
   "cell_type": "code",
   "execution_count": null,
   "metadata": {
    "ExecuteTime": {
     "end_time": "2022-03-24T21:46:49.368949Z",
     "start_time": "2022-03-24T21:46:48.680214Z"
    }
   },
   "outputs": [],
   "source": [
    "#%% PCA Viz\n",
    "\n",
    "%matplotlib inline\n",
    "import matplotlib.pyplot as plt\n",
    "import seaborn as sns\n",
    "\n",
    "# visualize X and X_compressed\n",
    "from sklearn.decomposition import PCA\n",
    "pca = PCA(n_components=3,svd_solver='randomized')\n",
    "Xpca = pca.fit_transform(X.todense())\n",
    "print(pca.explained_variance_ratio_)\n",
    "\n",
    "sns.scatterplot(\n",
    "    x=Xpca[:,0], y=Xpca[:,1],\n",
    "    hue=Y,\n",
    "    palette=sns.color_palette(\"hls\", len(set(Y))), alpha=0.3)\n",
    "\n",
    "plt.show()"
   ]
  },
  {
   "cell_type": "code",
   "execution_count": null,
   "metadata": {
    "ExecuteTime": {
     "end_time": "2022-03-24T21:46:51.223948Z",
     "start_time": "2022-03-24T21:46:51.109411Z"
    }
   },
   "outputs": [],
   "source": [
    "# visualize X and X_compressed\n",
    "from sklearn.decomposition import PCA\n",
    "pca = PCA(n_components=3,svd_solver='randomized')\n",
    "Xpca = pca.fit_transform(X_compressed)\n",
    "print(pca.explained_variance_ratio_)\n",
    "\n",
    "\n",
    "sns.scatterplot(\n",
    "    x=Xpca[:,0], y=Xpca[:,1],\n",
    "    hue=Y,\n",
    "    palette=sns.color_palette(\"hls\", len(set(Y))), alpha=0.3)\n",
    "plt.show()"
   ]
  },
  {
   "cell_type": "code",
   "execution_count": null,
   "metadata": {},
   "outputs": [],
   "source": []
  }
 ],
 "metadata": {
  "kernelspec": {
   "display_name": "Python 3 (ipykernel)",
   "language": "python",
   "name": "python3"
  },
  "language_info": {
   "codemirror_mode": {
    "name": "ipython",
    "version": 3
   },
   "file_extension": ".py",
   "mimetype": "text/x-python",
   "name": "python",
   "nbconvert_exporter": "python",
   "pygments_lexer": "ipython3",
   "version": "3.8.10"
  },
  "toc": {
   "base_numbering": 1,
   "nav_menu": {},
   "number_sections": true,
   "sideBar": true,
   "skip_h1_title": false,
   "title_cell": "Table of Contents",
   "title_sidebar": "Contents",
   "toc_cell": false,
   "toc_position": {
    "height": "calc(100% - 180px)",
    "left": "10px",
    "top": "150px",
    "width": "302.398px"
   },
   "toc_section_display": true,
   "toc_window_display": true
  }
 },
 "nbformat": 4,
 "nbformat_minor": 2
}
